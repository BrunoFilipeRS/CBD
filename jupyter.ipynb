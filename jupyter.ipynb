{
 "cells": [
  {
   "cell_type": "code",
   "execution_count": 1,
   "metadata": {},
   "outputs": [],
   "source": [
    "from cassandra.cluster import Cluster"
   ]
  },
  {
   "cell_type": "code",
   "execution_count": 18,
   "metadata": {},
   "outputs": [],
   "source": [
    "cluster = Cluster(['localhost'], port=9042) # You can specify multiple contact points if needed\n",
    "session = cluster.connect() "
   ]
  },
  {
   "cell_type": "code",
   "execution_count": 19,
   "metadata": {},
   "outputs": [
    {
     "data": {
      "text/plain": [
       "<cassandra.cluster.ResultSet at 0x22a717cd7d0>"
      ]
     },
     "execution_count": 19,
     "metadata": {},
     "output_type": "execute_result"
    }
   ],
   "source": [
    "session.execute('''CREATE KEYSPACE IF NOT EXISTS cbd WITH replication \n",
    "                = {'class': 'SimpleStrategy', 'replication_factor': 1}''')\n"
   ]
  },
  {
   "cell_type": "code",
   "execution_count": 19,
   "metadata": {},
   "outputs": [
    {
     "data": {
      "text/plain": [
       "<cassandra.cluster.ResultSet at 0x2c3409dd0d0>"
      ]
     },
     "execution_count": 19,
     "metadata": {},
     "output_type": "execute_result"
    }
   ],
   "source": [
    "session.execute(\"DROP TABLE IF EXISTS cbd.inscritos\")\n"
   ]
  },
  {
   "cell_type": "code",
   "execution_count": 20,
   "metadata": {},
   "outputs": [
    {
     "data": {
      "text/plain": [
       "<cassandra.cluster.ResultSet at 0x2c3409e3b90>"
      ]
     },
     "execution_count": 20,
     "metadata": {},
     "output_type": "execute_result"
    }
   ],
   "source": [
    "session.execute('''\n",
    "CREATE TABLE IF NOT EXISTS cbd.inscritos (\n",
    "    codigo_estabelecimento INT,\n",
    "    estabelecimento TEXT,\n",
    "    codigo_unidade_organica INT,\n",
    "    unidade_organica TEXT,\n",
    "    nuts_ii_2002 TEXT,\n",
    "    nuts_iii_2002 TEXT,\n",
    "    nuts_ii_2013 TEXT,\n",
    "    nuts_iii_2013 TEXT,\n",
    "    distrito TEXT,\n",
    "    concelho TEXT,\n",
    "    natureza_estabelecimento_ensino TEXT,\n",
    "    tipo_ensino TEXT,\n",
    "    codigo_curso INT,\n",
    "    curso TEXT,\n",
    "    curso_ciclo_estudos TEXT,\n",
    "    area_educacao_formacao_codigo_area_geral INT,\n",
    "    area_educacao_formacao_area_geral TEXT,\n",
    "    area_educacao_formacao_codigo_area_especifica INT,\n",
    "    area_educacao_formacao_area_especifica TEXT,\n",
    "    area_educacao_formacao_codigo_area_detalhada INT,\n",
    "    area_educacao_formacao_area_detalhada TEXT,\n",
    "    sexo TEXT,\n",
    "    nacionalidade TEXT,\n",
    "    estudante_trabalhador TEXT,\n",
    "    primeira_vez TEXT,\n",
    "    tempo_parcial TEXT,\n",
    "    bolseiro TEXT,\n",
    "    total INT,\n",
    "    PRIMARY KEY (codigo_estabelecimento)\n",
    ");\n",
    "''')"
   ]
  },
  {
   "cell_type": "code",
   "execution_count": 9,
   "metadata": {},
   "outputs": [
    {
     "name": "stderr",
     "output_type": "stream",
     "text": [
      "C:\\Users\\bruno\\AppData\\Local\\Temp\\ipykernel_29308\\4080736814.py:1: DeprecationWarning: \n",
      "Pyarrow will become a required dependency of pandas in the next major release of pandas (pandas 3.0),\n",
      "(to allow more performant data types, such as the Arrow string type, and better interoperability with other libraries)\n",
      "but was not found to be installed on your system.\n",
      "If this would cause problems for you,\n",
      "please provide us feedback at https://github.com/pandas-dev/pandas/issues/54466\n",
      "        \n",
      "  import pandas as pd\n"
     ]
    }
   ],
   "source": [
    "import pandas as pd"
   ]
  },
  {
   "cell_type": "code",
   "execution_count": 24,
   "metadata": {},
   "outputs": [],
   "source": [
    "df = pd.read_excel(r'C:\\Users\\bruno\\Desktop\\Projeto cbd\\Inscritos\\Inscritos_2016_2017.xlsx')"
   ]
  },
  {
   "cell_type": "code",
   "execution_count": 27,
   "metadata": {},
   "outputs": [
    {
     "name": "stdout",
     "output_type": "stream",
     "text": [
      "Código Estabelecimento                                   object\n",
      "Estabelecimento                                          object\n",
      "Código Unidade Orgânica                                 float64\n",
      "Unidade Orgânica                                         object\n",
      "NUTS II - 2002                                           object\n",
      "NUTS III - 2002                                          object\n",
      "NUTS II - 2013                                           object\n",
      "NUTS III - 2013                                          object\n",
      "Distrito                                                 object\n",
      "Concelho                                                 object\n",
      "Natureza do Estabelecimento de Ensino                    object\n",
      "Tipo de Ensino                                           object\n",
      "Código Curso                                             object\n",
      "Curso                                                    object\n",
      "Curso/Ciclo de Estudos                                   object\n",
      "Área de Educação e Formação - Código Área Geral         float64\n",
      "Área de Educação e Formação - Área Geral                 object\n",
      "Área de Educação e Formação - Código Área Específica    float64\n",
      "Área de Educação e Formação - Área Específica            object\n",
      "Área de Educação e Formação - Código Área Detalhada     float64\n",
      "Área de Educação e Formação - Área Detalhada             object\n",
      "Sexo                                                     object\n",
      "Nacionalidade                                            object\n",
      "Estudante Trabalhador                                    object\n",
      "Primeira Vez                                             object\n",
      "Tempo Parcial                                            object\n",
      "Bolseiro                                                 object\n",
      "Total                                                   float64\n",
      "dtype: object\n"
     ]
    }
   ],
   "source": [
    "print(df.dtypes)"
   ]
  },
  {
   "cell_type": "code",
   "execution_count": 29,
   "metadata": {},
   "outputs": [
    {
     "data": {
      "text/plain": [
       "Index(['Código Estabelecimento', 'Estabelecimento', 'Código Unidade Orgânica',\n",
       "       'Unidade Orgânica', 'NUTS II - 2002', 'NUTS III - 2002',\n",
       "       'NUTS II - 2013', 'NUTS III - 2013', 'Distrito', 'Concelho',\n",
       "       'Natureza do Estabelecimento de Ensino', 'Tipo de Ensino',\n",
       "       'Código Curso', 'Curso', 'Curso/Ciclo de Estudos',\n",
       "       'Área de Educação e Formação - Código Área Geral',\n",
       "       'Área de Educação e Formação - Área Geral',\n",
       "       'Área de Educação e Formação - Código Área Específica',\n",
       "       'Área de Educação e Formação - Área Específica',\n",
       "       'Área de Educação e Formação - Código Área Detalhada',\n",
       "       'Área de Educação e Formação - Área Detalhada', 'Sexo', 'Nacionalidade',\n",
       "       'Estudante Trabalhador', 'Primeira Vez', 'Tempo Parcial', 'Bolseiro',\n",
       "       'Total'],\n",
       "      dtype='object')"
      ]
     },
     "execution_count": 29,
     "metadata": {},
     "output_type": "execute_result"
    }
   ],
   "source": [
    "df.columns"
   ]
  },
  {
   "cell_type": "code",
   "execution_count": 31,
   "metadata": {},
   "outputs": [],
   "source": [
    "df2 = df[['Código Estabelecimento','Estabelecimento','Código Curso','Curso']]"
   ]
  },
  {
   "cell_type": "code",
   "execution_count": 82,
   "metadata": {},
   "outputs": [
    {
     "data": {
      "text/plain": [
       "<cassandra.cluster.ResultSet at 0x2c3473e7f50>"
      ]
     },
     "execution_count": 82,
     "metadata": {},
     "output_type": "execute_result"
    }
   ],
   "source": [
    "session.execute('''CREATE TABLE IF NOT EXISTS cbd.teste (\n",
    "    cod_estab INT,\n",
    "    estab TEXT,\n",
    "    cod_curso TEXT,\n",
    "    curso TEXT,\n",
    "    PRIMARY KEY (cod_estab, cod_curso)\n",
    ");\n",
    "''')"
   ]
  },
  {
   "cell_type": "code",
   "execution_count": 81,
   "metadata": {},
   "outputs": [
    {
     "data": {
      "text/plain": [
       "<cassandra.cluster.ResultSet at 0x2c341885690>"
      ]
     },
     "execution_count": 81,
     "metadata": {},
     "output_type": "execute_result"
    }
   ],
   "source": [
    "session.execute(\"DROP TABLE IF EXISTS cbd.teste\")"
   ]
  },
  {
   "cell_type": "code",
   "execution_count": 61,
   "metadata": {},
   "outputs": [
    {
     "data": {
      "text/plain": [
       "\"'0100','Universidade dos Açores','5753','Ciências Agrárias'\""
      ]
     },
     "execution_count": 61,
     "metadata": {},
     "output_type": "execute_result"
    }
   ],
   "source": [
    "a = df2.loc[0].to_list()\n",
    "t = ','.join([\"'\" + item + \"'\" for item in a])\n",
    "t"
   ]
  },
  {
   "cell_type": "code",
   "execution_count": null,
   "metadata": {},
   "outputs": [],
   "source": [
    "for index, row in df2.iterrows():\n",
    "    print(type(row['Código Estabelecimento']))"
   ]
  },
  {
   "cell_type": "code",
   "execution_count": 84,
   "metadata": {},
   "outputs": [
    {
     "ename": "InvalidRequest",
     "evalue": "Error from server: code=2200 [Invalid query] message=\"Invalid INTEGER constant (5753) for \"cod_curso\" of type text\"",
     "output_type": "error",
     "traceback": [
      "\u001b[1;31m---------------------------------------------------------------------------\u001b[0m",
      "\u001b[1;31mInvalidRequest\u001b[0m                            Traceback (most recent call last)",
      "Cell \u001b[1;32mIn[84], line 2\u001b[0m\n\u001b[0;32m      1\u001b[0m \u001b[38;5;28;01mfor\u001b[39;00m index, row \u001b[38;5;129;01min\u001b[39;00m df2\u001b[38;5;241m.\u001b[39miterrows():\n\u001b[1;32m----> 2\u001b[0m     \u001b[43msession\u001b[49m\u001b[38;5;241;43m.\u001b[39;49m\u001b[43mexecute\u001b[49m\u001b[43m(\u001b[49m\u001b[38;5;124;43mf\u001b[39;49m\u001b[38;5;124;43m'''\u001b[39;49m\u001b[38;5;124;43mINSERT INTO cbd.teste (\u001b[39;49m\n\u001b[0;32m      3\u001b[0m \u001b[38;5;124;43m                        cod_estab,\u001b[39;49m\n\u001b[0;32m      4\u001b[0m \u001b[38;5;124;43m                        estab,\u001b[39;49m\n\u001b[0;32m      5\u001b[0m \u001b[38;5;124;43m                        cod_curso,\u001b[39;49m\n\u001b[0;32m      6\u001b[0m \u001b[38;5;124;43m                        curso)\u001b[39;49m\n\u001b[0;32m      7\u001b[0m \u001b[38;5;124;43m                        VALUES (\u001b[39;49m\u001b[38;5;132;43;01m{\u001b[39;49;00m\u001b[38;5;28;43mint\u001b[39;49m\u001b[43m(\u001b[49m\u001b[43mrow\u001b[49m\u001b[43m[\u001b[49m\u001b[38;5;124;43m'\u001b[39;49m\u001b[38;5;124;43mCódigo Estabelecimento\u001b[39;49m\u001b[38;5;124;43m'\u001b[39;49m\u001b[43m]\u001b[49m\u001b[43m)\u001b[49m\u001b[38;5;132;43;01m}\u001b[39;49;00m\u001b[38;5;124;43m, \u001b[39;49m\u001b[38;5;124;43m'\u001b[39;49m\u001b[38;5;132;43;01m{\u001b[39;49;00m\u001b[43mrow\u001b[49m\u001b[43m[\u001b[49m\u001b[38;5;124;43m'\u001b[39;49m\u001b[38;5;124;43mEstabelecimento\u001b[39;49m\u001b[38;5;124;43m'\u001b[39;49m\u001b[43m]\u001b[49m\u001b[38;5;132;43;01m}\u001b[39;49;00m\u001b[38;5;124;43m'\u001b[39;49m\u001b[38;5;124;43m, \u001b[39;49m\u001b[38;5;132;43;01m{\u001b[39;49;00m\u001b[38;5;28;43mint\u001b[39;49m\u001b[43m(\u001b[49m\u001b[43mrow\u001b[49m\u001b[43m[\u001b[49m\u001b[38;5;124;43m'\u001b[39;49m\u001b[38;5;124;43mCódigo Curso\u001b[39;49m\u001b[38;5;124;43m'\u001b[39;49m\u001b[43m]\u001b[49m\u001b[43m)\u001b[49m\u001b[38;5;132;43;01m}\u001b[39;49;00m\u001b[38;5;124;43m, \u001b[39;49m\u001b[38;5;124;43m'\u001b[39;49m\u001b[38;5;132;43;01m{\u001b[39;49;00m\u001b[43mrow\u001b[49m\u001b[43m[\u001b[49m\u001b[38;5;124;43m'\u001b[39;49m\u001b[38;5;124;43mCurso\u001b[39;49m\u001b[38;5;124;43m'\u001b[39;49m\u001b[43m]\u001b[49m\u001b[38;5;132;43;01m}\u001b[39;49;00m\u001b[38;5;124;43m'\u001b[39;49m\n\u001b[0;32m      8\u001b[0m \u001b[38;5;124;43m                        )\u001b[39;49m\u001b[38;5;124;43m'''\u001b[39;49m\n\u001b[0;32m      9\u001b[0m \u001b[43m                    \u001b[49m\u001b[43m)\u001b[49m\n",
      "File \u001b[1;32mc:\\Users\\bruno\\AppData\\Local\\Programs\\Python\\Python311\\Lib\\site-packages\\cassandra\\cluster.py:2677\u001b[0m, in \u001b[0;36mcassandra.cluster.Session.execute\u001b[1;34m()\u001b[0m\n",
      "File \u001b[1;32mc:\\Users\\bruno\\AppData\\Local\\Programs\\Python\\Python311\\Lib\\site-packages\\cassandra\\cluster.py:4956\u001b[0m, in \u001b[0;36mcassandra.cluster.ResponseFuture.result\u001b[1;34m()\u001b[0m\n",
      "\u001b[1;31mInvalidRequest\u001b[0m: Error from server: code=2200 [Invalid query] message=\"Invalid INTEGER constant (5753) for \"cod_curso\" of type text\""
     ]
    }
   ],
   "source": [
    "for index, row in df2.iterrows():\n",
    "    session.execute(f'''INSERT INTO cbd.teste (\n",
    "                        cod_estab,\n",
    "                        estab,\n",
    "                        cod_curso,\n",
    "                        curso)\n",
    "                        VALUES ({int(row['Código Estabelecimento'])}, '{row['Estabelecimento']}', {(row['Código Curso'])}, '{row['Curso']}'\n",
    "                        )'''\n",
    "                    )\n",
    "\n",
    "\n",
    "\n"
   ]
  },
  {
   "cell_type": "code",
   "execution_count": 7,
   "metadata": {},
   "outputs": [],
   "source": [
    "import glob\n",
    "import pandas as pd"
   ]
  },
  {
   "cell_type": "code",
   "execution_count": 10,
   "metadata": {},
   "outputs": [
    {
     "name": "stdout",
     "output_type": "stream",
     "text": [
      "['Código Estabelecimento ', 'Estabelecimento', 'Código Unidade Orgânica', 'Unidade Orgânica', 'NUTS II', 'NUTS III', 'Distrito', 'Concelho', 'Subsistema de Ensino', 'Tipo de Ensino', 'Código Curso', 'Curso', 'Nivel de Formação', 'CNAEF - Código Grande Grupo', 'CNAEF - Grande grupo', 'CNAEF - Código Área de Estudo', 'CNAEF - Área de Estudo', 'CNAEF - Código Área de Educação e Formação ', 'CNAEF - Área de Educação e Formação', 'Sexo', 'Total']\n",
      "['Código Estabelecimento ', 'Estabelecimento', 'Código Unidade Orgânica', 'Unidade Orgânica', 'NUTS II', 'NUTS III', 'Distrito', 'Concelho', 'Subsistema de Ensino', 'Tipo de Ensino', 'Código Curso', 'Curso', 'Nivel de Formação', 'CNAEF - Código Grande Grupo', 'CNAEF - Grande grupo', 'CNAEF - Código Área de Estudo', 'CNAEF - Área de Estudo', 'CNAEF - Código Área de Educação e Formação ', 'CNAEF - Área de Educação e Formação', 'Sexo', 'Total']\n",
      "['Código Estabelecimento ', 'Estabelecimento', 'Código Unidade Orgânica', 'Unidade Orgânica', 'NUTS II', 'NUTS III', 'Distrito', 'Concelho', 'Subsistema de Ensino', 'Tipo de Ensino', 'Código Curso', 'Curso', 'Nivel de Formação', 'CNAEF - Código Grande Grupo', 'CNAEF - Grande grupo', 'CNAEF - Código Área de Estudo', 'CNAEF - Área de Estudo', 'CNAEF - Código Área de Educação e Formação ', 'CNAEF - Área de Educação e Formação', 'Sexo', 'Total']\n",
      "['Código Estabelecimento ', 'Estabelecimento', 'Código Unidade Orgânica', 'Unidade Orgânica', 'NUTS II', 'NUTS III', 'Distrito', 'Concelho', 'Subsistema de Ensino', 'Tipo de Ensino', 'Código Curso', 'Curso', 'Nivel de Formação', 'CNAEF - Código Grande Grupo', 'CNAEF - Grande grupo', 'CNAEF - Código Área de Estudo', 'CNAEF - Área de Estudo', 'CNAEF - Código Área de Educação e Formação ', 'CNAEF - Área de Educação e Formação', 'Sexo', 'Nacionalidade', 'Total']\n",
      "['Código Estabelecimento ', 'Estabelecimento', 'Código Unidade Orgânica', 'Unidade Orgânica', 'NUTS II', 'NUTS III', 'Distrito', 'Concelho', 'Subsistema de Ensino', 'Tipo de Ensino', 'Código Curso', 'Curso', 'Nivel de Formação', 'CNAEF - Código Grande Grupo', 'CNAEF - Grande grupo', 'CNAEF - Código Área de Estudo', 'CNAEF - Área de Estudo', 'CNAEF - Código Área de Educação e Formação ', 'CNAEF - Área de Educação e Formação', 'Sexo', 'Nacionalidade', 'Total']\n",
      "['Código Estabelecimento ', 'Estabelecimento', 'Código Unidade Orgânica', 'Unidade Orgânica', 'NUTS II', 'NUTS III', 'Distrito', 'Concelho', 'Subsistema de Ensino', 'Tipo de Ensino', 'Código Curso', 'Curso', 'Nivel de Formação', 'CNAEF - Código Grande Grupo', 'CNAEF - Grande grupo', 'CNAEF - Código Área de Estudo', 'CNAEF - Área de Estudo', 'CNAEF - Código Área de Educação e Formação ', 'CNAEF - Área de Educação e Formação', 'Sexo', 'Nacionalidade', 'Total']\n",
      "['Código Estabelecimento', 'Estabelecimento', 'Código Unidade Orgânica', 'Unidade Orgânica', 'NUTS II', 'NUTS III', 'Distrito', 'Concelho ', 'Subsistema de Ensino', 'Tipo de Ensino', 'Código Curso', 'Curso', 'Nível de Formação', 'CNAEF - Código Grande Grupo ', 'CNAEF - Grande grupo', 'CNAEF - Código Área de Estudo', 'CNAEF - Área de Estudo', 'CNAEF - Código Área de Educação e Formação', 'CNAEF - Área de Educação e Formação', 'Sexo', 'País', 'Total']\n",
      "['Código Estabelecimento ', 'Estabelecimento', 'Código Unidade Orgânica', 'Unidade Orgânica', 'NUTS II', 'NUTS III', 'Distrito', 'Concelho', 'Subsistema de Ensino', 'Tipo de Ensino', 'Código Curso', 'Curso', 'Nivel de Formação', 'CNAEF - Código Grande Grupo', 'CNAEF - Grande grupo', 'CNAEF - Código Área de Estudo', 'CNAEF - Área de Estudo', 'CNAEF - Código Área de Educação e Formação ', 'CNAEF - Área de Educação e Formação', 'Sexo', 'País', 'Total']\n",
      "['Código Estabelecimento ', 'Estabelecimento', 'Código Unidade Orgânica', 'Unidade Orgânica', 'NUTS I', 'NUTS II', 'NUTS III', 'Distrito', 'Concelho', 'Subsistema de Ensino', 'Tipo de Ensino', 'Código Curso', 'Curso', 'Nivel de Formação', 'CNAEF - Código Grande Grupo', 'CNAEF - Grande grupo', 'CNAEF - Código Área de Estudo', 'CNAEF - Área de Estudo', 'CNAEF - Código Área de Educação e Formação ', 'CNAEF - Área de Educação e Formação', 'Sexo', 'País', 'Total']\n",
      "['Código Estabelecimento ', 'Estabelecimento', 'Código Unidade Orgânica', 'Unidade Orgânica', 'NUTSI', 'NUTSII 2001', 'NUTSII 2002', 'NUTSII 2013', 'NUTSIII 2001', 'NUTSIII 2002', 'NUTSIII 2013', 'Distrito', 'Concelho', 'Subsistema de Ensino', 'Tipo de Ensino', 'Código Curso', 'Curso', 'Nivel de Formação', 'CNAEF - Código Grande Grupo', 'CNAEF - Grande grupo', 'CNAEF - Código Área de Estudo', 'CNAEF - Área de Estudo', 'CNAEF - Código Área de Educação e Formação ', 'CNAEF - Área de Educação e Formação', 'Sexo', 'País', 'Total']\n",
      "['Código Estabelecimento ', 'Estabelecimento', 'Código Unidade Orgânica', 'Unidade Orgânica', 'NUTSI', 'NUTSII 2001', 'NUTSII 2002', 'NUTSII 2013', 'NUTSIII 2001', 'NUTSIII 2002', 'NUTSIII 2013', 'Distrito', 'Concelho', 'Subsistema de Ensino', 'Tipo de Ensino', 'Código Curso', 'Curso', 'Nivel de Formação', 'CNAEF - Código Grande Grupo', 'CNAEF - Grande grupo', 'CNAEF - Código Área de Estudo', 'CNAEF - Área de Estudo', 'CNAEF - Código Área de Educação e Formação ', 'CNAEF - Área de Educação e Formação', 'Sexo', 'Nacionalidade', 'Total']\n",
      "['Código Estabelecimento ', 'Estabelecimento', 'Código Unidade Orgânica', 'Unidade Orgânica', 'NUTS I', 'NUTS II - 2001', 'NUTS II - 2002', 'NUTS II - 2013', 'NUTS III - 2001', 'NUTS III - 2002', 'NUTS III - 2013', 'Distrito', 'Concelho', 'Natureza do Estabelecimento de Ensino', 'Tipo de Ensino', 'Código Curso', 'Curso', 'Curso/Ciclo de Estudos', 'Área de Educação e Formação - Código Área Geral', 'Área de Educação e Formação - Área Geral', 'Área de Educação e Formação - Código Área Específica', 'Área de Educação e Formação - Área Específica', 'Área de Educação e Formação - Código Área Detalhada', 'Área de Educação e Formação - Área Detalhada', 'Sexo', 'Nacionalidade', 'Total']\n",
      "['Código Estabelecimento ', 'Estabelecimento', 'Código Unidade Orgânica', 'Unidade Orgânica', 'NUTS I', 'NUTS II - 2001', 'NUTS II - 2002', 'NUTS II - 2013', 'NUTS III - 2001', 'NUTS III - 2002', 'NUTS III - 2013', 'Distrito', 'Concelho', 'Natureza do Estabelecimento de Ensino', 'Tipo de Ensino', 'Código Curso', 'Curso', 'Curso/Ciclo de Estudos', 'Área de Educação e Formação - Código Área Geral', 'Área de Educação e Formação - Área Geral', 'Área de Educação e Formação - Código Área Específica', 'Área de Educação e Formação - Área Específica', 'Área de Educação e Formação - Código Área Detalhada', 'Área de Educação e Formação - Área Detalhada', 'Sexo', 'Nacionalidade', 'Total']\n",
      "['Código Estabelecimento ', 'Estabelecimento', 'Código Unidade Orgânica', 'Unidade Orgânica', 'NUTS I', 'NUTS II - 2001', 'NUTS II - 2002', 'NUTS II - 2013', 'NUTS III - 2001', 'NUTS III - 2002', 'NUTS III - 2013', 'Distrito', 'Município', 'Natureza do Estabelecimento de Ensino', 'Tipo de Ensino', 'Código Curso', 'Curso', 'Curso/Ciclo de Estudos', 'Área de Educação e Formação - Código Área Geral', 'Área de Educação e Formação - Área Geral', 'Área de Educação e Formação - Código Área Específica', 'Área de Educação e Formação - Área Específica', 'Área de Educação e Formação - Código Área Detalhada', 'Área de Educação e Formação - Área Detalhada', 'Sexo', 'Nacionalidade', 'Total']\n",
      "['Código Estabelecimento', 'Estabelecimento', 'Código Unidade Orgânica', 'Unidade Orgânica', 'NUTS I', 'NUTS II - 2001', 'NUTS II - 2002', 'NUTS II - 2013', 'NUTS III - 2001', 'NUTS III - 2002', 'NUTS III - 2013', 'Distrito', 'Município', 'Natureza do Estabelecimento de Ensino', 'Tipo de Ensino', 'Código Curso', 'Curso', 'Curso/Ciclo de Estudos', 'Área de Educação e Formação - Código Área Geral', 'Área de Educação e Formação - Área Geral', 'Área de Educação e Formação - Código Área Específica', 'Área de Educação e Formação - Área Específica', 'Área de Educação e Formação - Código Área Detalhada', 'Área de Educação e Formação - Área Detalhada', 'Sexo', 'Mobilidade de Crédito', 'Mobilidade de Grau', 'País de Nacionalidade', 'Total']\n",
      "['Código Estabelecimento', 'Estabelecimento', 'Código Unidade Orgânica', 'Unidade Orgânica', 'NUTS I', 'NUTS II - 2001', 'NUTS II - 2002', 'NUTS II - 2013', 'NUTS III - 2001', 'NUTS III - 2002', 'NUTS III - 2013', 'Distrito', 'Município', 'Natureza do Estabelecimento de Ensino', 'Tipo de Ensino', 'Código Curso', 'Curso', 'Curso/Ciclo de Estudos', 'Área de Educação e Formação - Código Área Geral', 'Área de Educação e Formação - Área Geral', 'Área de Educação e Formação - Código Área Específica', 'Área de Educação e Formação - Área Específica', 'Área de Educação e Formação - Código Área Detalhada', 'Área de Educação e Formação - Área Detalhada', 'Sexo', 'Mobilidade de Crédito', 'Mobilidade de Grau', 'País de Nacionalidade', 'Total']\n",
      "['Código Estabelecimento', 'Estabelecimento', 'Código Unidade Orgânica', 'Unidade Orgânica', 'NUTS I', 'NUTS II - 2001', 'NUTS II - 2002', 'NUTS II - 2013', 'NUTS III - 2001', 'NUTS III - 2002', 'NUTS III - 2013', 'Distrito', 'Município', 'Natureza do Estabelecimento de Ensino', 'Tipo de Ensino', 'Código Curso', 'Curso', 'Curso/Ciclo de Estudos', 'Área de Educação e Formação - Código Área Geral', 'Área de Educação e Formação - Área Geral', 'Área de Educação e Formação - Código Área Específica', 'Área de Educação e Formação - Área Específica', 'Área de Educação e Formação - Código Área Detalhada', 'Área de Educação e Formação - Área Detalhada', 'Sexo', 'Mobilidade de Crédito', 'Mobilidade de Grau', 'País de Nacionalidade', 'Total']\n",
      "['Código Estabelecimento', 'Estabelecimento', 'Código Unidade Orgânica', 'Unidade Orgânica', 'NUTS I', 'NUTS II - 2002', 'NUTS III - 2002', 'NUTS II - 2013', 'NUTS III - 2013', 'Distrito', 'Município', 'Natureza do Estabelecimento de Ensino', 'Tipo de Ensino', 'Código Curso', 'Curso', 'Curso/Ciclo de Estudos', 'Área de Educação e Formação - Código Área Geral', 'Área de Educação e Formação - Área Geral', 'Área de Educação e Formação - Código Área Específica', 'Área de Educação e Formação - Área Específica', 'Área de Educação e Formação - Código Área Detalhada', 'Área de Educação e Formação - Área Detalhada', 'Sexo', 'Grupo Etário', 'País de Nacionalidade', 'Mobilidade de Crédito', 'Mobilidade de Grau', 'N']\n"
     ]
    }
   ],
   "source": [
    "# diplomados\n",
    "path = r\"C:\\Users\\bruno\\Desktop\\Projeto CBD\\Dados\\Diplomados\"\n",
    "excel_files = glob.glob(path + '/*.xlsx')\n",
    "\n",
    "for file_path in excel_files:\n",
    "    column_names = pd.read_excel(file_path, nrows=0).columns.tolist()\n",
    "\n",
    "    print(column_names)"
   ]
  }
 ],
 "metadata": {
  "kernelspec": {
   "display_name": "Python 3",
   "language": "python",
   "name": "python3"
  },
  "language_info": {
   "codemirror_mode": {
    "name": "ipython",
    "version": 3
   },
   "file_extension": ".py",
   "mimetype": "text/x-python",
   "name": "python",
   "nbconvert_exporter": "python",
   "pygments_lexer": "ipython3",
   "version": "3.11.8"
  }
 },
 "nbformat": 4,
 "nbformat_minor": 2
}
