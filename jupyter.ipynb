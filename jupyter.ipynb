{
 "cells": [
  {
   "cell_type": "code",
   "execution_count": 1,
   "metadata": {},
   "outputs": [],
   "source": [
    "from cassandra.cluster import Cluster"
   ]
  },
  {
   "cell_type": "code",
   "execution_count": 2,
   "metadata": {},
   "outputs": [],
   "source": [
    "cluster = Cluster(['localhost'], port=9042) # You can specify multiple contact points if needed\n",
    "session = cluster.connect() "
   ]
  },
  {
   "cell_type": "code",
   "execution_count": 19,
   "metadata": {},
   "outputs": [
    {
     "data": {
      "text/plain": [
       "<cassandra.cluster.ResultSet at 0x22a717cd7d0>"
      ]
     },
     "execution_count": 19,
     "metadata": {},
     "output_type": "execute_result"
    }
   ],
   "source": [
    "session.execute('''CREATE KEYSPACE IF NOT EXISTS cbd WITH replication \n",
    "                = {'class': 'SimpleStrategy', 'replication_factor': 1}''')\n"
   ]
  },
  {
   "cell_type": "code",
   "execution_count": 20,
   "metadata": {},
   "outputs": [
    {
     "data": {
      "text/plain": [
       "<cassandra.cluster.ResultSet at 0x2c3409e3b90>"
      ]
     },
     "execution_count": 20,
     "metadata": {},
     "output_type": "execute_result"
    }
   ],
   "source": [
    "session.execute('''\n",
    "CREATE TABLE IF NOT EXISTS cbd.inscritos (\n",
    "    codigo_estabelecimento INT,\n",
    "    estabelecimento TEXT,\n",
    "    codigo_unidade_organica INT,\n",
    "    unidade_organica TEXT,\n",
    "    nuts_ii_2002 TEXT,\n",
    "    nuts_iii_2002 TEXT,\n",
    "    nuts_ii_2013 TEXT,\n",
    "    nuts_iii_2013 TEXT,\n",
    "    distrito TEXT,\n",
    "    concelho TEXT,\n",
    "    natureza_estabelecimento_ensino TEXT,\n",
    "    tipo_ensino TEXT,\n",
    "    codigo_curso INT,\n",
    "    curso TEXT,\n",
    "    curso_ciclo_estudos TEXT,\n",
    "    area_educacao_formacao_codigo_area_geral INT,\n",
    "    area_educacao_formacao_area_geral TEXT,\n",
    "    area_educacao_formacao_codigo_area_especifica INT,\n",
    "    area_educacao_formacao_area_especifica TEXT,\n",
    "    area_educacao_formacao_codigo_area_detalhada INT,\n",
    "    area_educacao_formacao_area_detalhada TEXT,\n",
    "    sexo TEXT,\n",
    "    nacionalidade TEXT,\n",
    "    estudante_trabalhador TEXT,\n",
    "    primeira_vez TEXT,\n",
    "    tempo_parcial TEXT,\n",
    "    bolseiro TEXT,\n",
    "    total INT,\n",
    "    PRIMARY KEY (codigo_estabelecimento)\n",
    ");\n",
    "''')"
   ]
  },
  {
   "cell_type": "code",
   "execution_count": 9,
   "metadata": {},
   "outputs": [
    {
     "name": "stderr",
     "output_type": "stream",
     "text": [
      "C:\\Users\\bruno\\AppData\\Local\\Temp\\ipykernel_29308\\4080736814.py:1: DeprecationWarning: \n",
      "Pyarrow will become a required dependency of pandas in the next major release of pandas (pandas 3.0),\n",
      "(to allow more performant data types, such as the Arrow string type, and better interoperability with other libraries)\n",
      "but was not found to be installed on your system.\n",
      "If this would cause problems for you,\n",
      "please provide us feedback at https://github.com/pandas-dev/pandas/issues/54466\n",
      "        \n",
      "  import pandas as pd\n"
     ]
    }
   ],
   "source": [
    "import pandas as pd"
   ]
  },
  {
   "cell_type": "code",
   "execution_count": 24,
   "metadata": {},
   "outputs": [],
   "source": [
    "df = pd.read_excel(r'C:\\Users\\bruno\\Desktop\\Projeto cbd\\Inscritos\\Inscritos_2016_2017.xlsx')"
   ]
  },
  {
   "cell_type": "code",
   "execution_count": 27,
   "metadata": {},
   "outputs": [
    {
     "name": "stdout",
     "output_type": "stream",
     "text": [
      "Código Estabelecimento                                   object\n",
      "Estabelecimento                                          object\n",
      "Código Unidade Orgânica                                 float64\n",
      "Unidade Orgânica                                         object\n",
      "NUTS II - 2002                                           object\n",
      "NUTS III - 2002                                          object\n",
      "NUTS II - 2013                                           object\n",
      "NUTS III - 2013                                          object\n",
      "Distrito                                                 object\n",
      "Concelho                                                 object\n",
      "Natureza do Estabelecimento de Ensino                    object\n",
      "Tipo de Ensino                                           object\n",
      "Código Curso                                             object\n",
      "Curso                                                    object\n",
      "Curso/Ciclo de Estudos                                   object\n",
      "Área de Educação e Formação - Código Área Geral         float64\n",
      "Área de Educação e Formação - Área Geral                 object\n",
      "Área de Educação e Formação - Código Área Específica    float64\n",
      "Área de Educação e Formação - Área Específica            object\n",
      "Área de Educação e Formação - Código Área Detalhada     float64\n",
      "Área de Educação e Formação - Área Detalhada             object\n",
      "Sexo                                                     object\n",
      "Nacionalidade                                            object\n",
      "Estudante Trabalhador                                    object\n",
      "Primeira Vez                                             object\n",
      "Tempo Parcial                                            object\n",
      "Bolseiro                                                 object\n",
      "Total                                                   float64\n",
      "dtype: object\n"
     ]
    }
   ],
   "source": [
    "print(df.dtypes)"
   ]
  },
  {
   "cell_type": "code",
   "execution_count": 29,
   "metadata": {},
   "outputs": [
    {
     "data": {
      "text/plain": [
       "Index(['Código Estabelecimento', 'Estabelecimento', 'Código Unidade Orgânica',\n",
       "       'Unidade Orgânica', 'NUTS II - 2002', 'NUTS III - 2002',\n",
       "       'NUTS II - 2013', 'NUTS III - 2013', 'Distrito', 'Concelho',\n",
       "       'Natureza do Estabelecimento de Ensino', 'Tipo de Ensino',\n",
       "       'Código Curso', 'Curso', 'Curso/Ciclo de Estudos',\n",
       "       'Área de Educação e Formação - Código Área Geral',\n",
       "       'Área de Educação e Formação - Área Geral',\n",
       "       'Área de Educação e Formação - Código Área Específica',\n",
       "       'Área de Educação e Formação - Área Específica',\n",
       "       'Área de Educação e Formação - Código Área Detalhada',\n",
       "       'Área de Educação e Formação - Área Detalhada', 'Sexo', 'Nacionalidade',\n",
       "       'Estudante Trabalhador', 'Primeira Vez', 'Tempo Parcial', 'Bolseiro',\n",
       "       'Total'],\n",
       "      dtype='object')"
      ]
     },
     "execution_count": 29,
     "metadata": {},
     "output_type": "execute_result"
    }
   ],
   "source": [
    "df.columns"
   ]
  },
  {
   "cell_type": "code",
   "execution_count": 31,
   "metadata": {},
   "outputs": [],
   "source": [
    "df2 = df[['Código Estabelecimento','Estabelecimento','Código Curso','Curso']]"
   ]
  },
  {
   "cell_type": "code",
   "execution_count": 16,
   "metadata": {},
   "outputs": [
    {
     "data": {
      "text/plain": [
       "<cassandra.cluster.ResultSet at 0x22706c403d0>"
      ]
     },
     "execution_count": 16,
     "metadata": {},
     "output_type": "execute_result"
    }
   ],
   "source": [
    "session.execute(\"DROP TABLE IF EXISTS cbd.inscritos\")"
   ]
  },
  {
   "cell_type": "code",
   "execution_count": 17,
   "metadata": {},
   "outputs": [
    {
     "data": {
      "text/plain": [
       "<cassandra.cluster.ResultSet at 0x22715d18a10>"
      ]
     },
     "execution_count": 17,
     "metadata": {},
     "output_type": "execute_result"
    }
   ],
   "source": [
    "session.execute('''\n",
    "    CREATE TABLE cbd.inscritos (\n",
    "    natureza_do_estabelecimento VARCHAR,\n",
    "    nome_estabelecimento VARCHAR,\n",
    "    tipo_de_ensino VARCHAR,\n",
    "    nivel_de_formacao VARCHAR,\n",
    "    curso VARCHAR,\n",
    "    distrito VARCHAR,\n",
    "    sexo VARCHAR,\n",
    "    total INT,\n",
    "    grande_grupo VARCHAR,\n",
    "    pais VARCHAR,\n",
    "    ano INT,\n",
    "    PRIMARY KEY (natureza_do_estabelecimento, nome_estabelecimento, tipo_de_ensino, nivel_de_formacao, curso, ano)\n",
    ");\n",
    "\n",
    "''')"
   ]
  },
  {
   "cell_type": "code",
   "execution_count": 81,
   "metadata": {},
   "outputs": [
    {
     "data": {
      "text/plain": [
       "<cassandra.cluster.ResultSet at 0x2c341885690>"
      ]
     },
     "execution_count": 81,
     "metadata": {},
     "output_type": "execute_result"
    }
   ],
   "source": [
    "session.execute(\"DROP TABLE IF EXISTS cbd.teste\")"
   ]
  },
  {
   "cell_type": "code",
   "execution_count": 61,
   "metadata": {},
   "outputs": [
    {
     "data": {
      "text/plain": [
       "\"'0100','Universidade dos Açores','5753','Ciências Agrárias'\""
      ]
     },
     "execution_count": 61,
     "metadata": {},
     "output_type": "execute_result"
    }
   ],
   "source": [
    "a = df2.loc[0].to_list()\n",
    "t = ','.join([\"'\" + item + \"'\" for item in a])\n",
    "t"
   ]
  },
  {
   "cell_type": "code",
   "execution_count": null,
   "metadata": {},
   "outputs": [],
   "source": [
    "for index, row in df2.iterrows():\n",
    "    print(type(row['Código Estabelecimento']))"
   ]
  },
  {
   "cell_type": "code",
   "execution_count": 84,
   "metadata": {},
   "outputs": [
    {
     "ename": "InvalidRequest",
     "evalue": "Error from server: code=2200 [Invalid query] message=\"Invalid INTEGER constant (5753) for \"cod_curso\" of type text\"",
     "output_type": "error",
     "traceback": [
      "\u001b[1;31m---------------------------------------------------------------------------\u001b[0m",
      "\u001b[1;31mInvalidRequest\u001b[0m                            Traceback (most recent call last)",
      "Cell \u001b[1;32mIn[84], line 2\u001b[0m\n\u001b[0;32m      1\u001b[0m \u001b[38;5;28;01mfor\u001b[39;00m index, row \u001b[38;5;129;01min\u001b[39;00m df2\u001b[38;5;241m.\u001b[39miterrows():\n\u001b[1;32m----> 2\u001b[0m     \u001b[43msession\u001b[49m\u001b[38;5;241;43m.\u001b[39;49m\u001b[43mexecute\u001b[49m\u001b[43m(\u001b[49m\u001b[38;5;124;43mf\u001b[39;49m\u001b[38;5;124;43m'''\u001b[39;49m\u001b[38;5;124;43mINSERT INTO cbd.teste (\u001b[39;49m\n\u001b[0;32m      3\u001b[0m \u001b[38;5;124;43m                        cod_estab,\u001b[39;49m\n\u001b[0;32m      4\u001b[0m \u001b[38;5;124;43m                        estab,\u001b[39;49m\n\u001b[0;32m      5\u001b[0m \u001b[38;5;124;43m                        cod_curso,\u001b[39;49m\n\u001b[0;32m      6\u001b[0m \u001b[38;5;124;43m                        curso)\u001b[39;49m\n\u001b[0;32m      7\u001b[0m \u001b[38;5;124;43m                        VALUES (\u001b[39;49m\u001b[38;5;132;43;01m{\u001b[39;49;00m\u001b[38;5;28;43mint\u001b[39;49m\u001b[43m(\u001b[49m\u001b[43mrow\u001b[49m\u001b[43m[\u001b[49m\u001b[38;5;124;43m'\u001b[39;49m\u001b[38;5;124;43mCódigo Estabelecimento\u001b[39;49m\u001b[38;5;124;43m'\u001b[39;49m\u001b[43m]\u001b[49m\u001b[43m)\u001b[49m\u001b[38;5;132;43;01m}\u001b[39;49;00m\u001b[38;5;124;43m, \u001b[39;49m\u001b[38;5;124;43m'\u001b[39;49m\u001b[38;5;132;43;01m{\u001b[39;49;00m\u001b[43mrow\u001b[49m\u001b[43m[\u001b[49m\u001b[38;5;124;43m'\u001b[39;49m\u001b[38;5;124;43mEstabelecimento\u001b[39;49m\u001b[38;5;124;43m'\u001b[39;49m\u001b[43m]\u001b[49m\u001b[38;5;132;43;01m}\u001b[39;49;00m\u001b[38;5;124;43m'\u001b[39;49m\u001b[38;5;124;43m, \u001b[39;49m\u001b[38;5;132;43;01m{\u001b[39;49;00m\u001b[38;5;28;43mint\u001b[39;49m\u001b[43m(\u001b[49m\u001b[43mrow\u001b[49m\u001b[43m[\u001b[49m\u001b[38;5;124;43m'\u001b[39;49m\u001b[38;5;124;43mCódigo Curso\u001b[39;49m\u001b[38;5;124;43m'\u001b[39;49m\u001b[43m]\u001b[49m\u001b[43m)\u001b[49m\u001b[38;5;132;43;01m}\u001b[39;49;00m\u001b[38;5;124;43m, \u001b[39;49m\u001b[38;5;124;43m'\u001b[39;49m\u001b[38;5;132;43;01m{\u001b[39;49;00m\u001b[43mrow\u001b[49m\u001b[43m[\u001b[49m\u001b[38;5;124;43m'\u001b[39;49m\u001b[38;5;124;43mCurso\u001b[39;49m\u001b[38;5;124;43m'\u001b[39;49m\u001b[43m]\u001b[49m\u001b[38;5;132;43;01m}\u001b[39;49;00m\u001b[38;5;124;43m'\u001b[39;49m\n\u001b[0;32m      8\u001b[0m \u001b[38;5;124;43m                        )\u001b[39;49m\u001b[38;5;124;43m'''\u001b[39;49m\n\u001b[0;32m      9\u001b[0m \u001b[43m                    \u001b[49m\u001b[43m)\u001b[49m\n",
      "File \u001b[1;32mc:\\Users\\bruno\\AppData\\Local\\Programs\\Python\\Python311\\Lib\\site-packages\\cassandra\\cluster.py:2677\u001b[0m, in \u001b[0;36mcassandra.cluster.Session.execute\u001b[1;34m()\u001b[0m\n",
      "File \u001b[1;32mc:\\Users\\bruno\\AppData\\Local\\Programs\\Python\\Python311\\Lib\\site-packages\\cassandra\\cluster.py:4956\u001b[0m, in \u001b[0;36mcassandra.cluster.ResponseFuture.result\u001b[1;34m()\u001b[0m\n",
      "\u001b[1;31mInvalidRequest\u001b[0m: Error from server: code=2200 [Invalid query] message=\"Invalid INTEGER constant (5753) for \"cod_curso\" of type text\""
     ]
    }
   ],
   "source": [
    "for index, row in df2.iterrows():\n",
    "    session.execute(f'''INSERT INTO cbd.teste (\n",
    "                        cod_estab,\n",
    "                        estab,\n",
    "                        cod_curso,\n",
    "                        curso)\n",
    "                        VALUES ({int(row['Código Estabelecimento'])}, '{row['Estabelecimento']}', {(row['Código Curso'])}, '{row['Curso']}'\n",
    "                        )'''\n",
    "                    )\n",
    "\n",
    "\n",
    "\n"
   ]
  },
  {
   "cell_type": "code",
   "execution_count": 3,
   "metadata": {},
   "outputs": [],
   "source": [
    "import glob\n",
    "import pandas as pd"
   ]
  },
  {
   "cell_type": "code",
   "execution_count": 10,
   "metadata": {},
   "outputs": [
    {
     "name": "stdout",
     "output_type": "stream",
     "text": [
      "['Código Estabelecimento ', 'Estabelecimento', 'Código Unidade Orgânica', 'Unidade Orgânica', 'NUTS II', 'NUTS III', 'Distrito', 'Concelho', 'Subsistema de Ensino', 'Tipo de Ensino', 'Código Curso', 'Curso', 'Nivel de Formação', 'CNAEF - Código Grande Grupo', 'CNAEF - Grande grupo', 'CNAEF - Código Área de Estudo', 'CNAEF - Área de Estudo', 'CNAEF - Código Área de Educação e Formação ', 'CNAEF - Área de Educação e Formação', 'Sexo', 'Total']\n",
      "['Código Estabelecimento ', 'Estabelecimento', 'Código Unidade Orgânica', 'Unidade Orgânica', 'NUTS II', 'NUTS III', 'Distrito', 'Concelho', 'Subsistema de Ensino', 'Tipo de Ensino', 'Código Curso', 'Curso', 'Nivel de Formação', 'CNAEF - Código Grande Grupo', 'CNAEF - Grande grupo', 'CNAEF - Código Área de Estudo', 'CNAEF - Área de Estudo', 'CNAEF - Código Área de Educação e Formação ', 'CNAEF - Área de Educação e Formação', 'Sexo', 'Total']\n",
      "['Código Estabelecimento ', 'Estabelecimento', 'Código Unidade Orgânica', 'Unidade Orgânica', 'NUTS II', 'NUTS III', 'Distrito', 'Concelho', 'Subsistema de Ensino', 'Tipo de Ensino', 'Código Curso', 'Curso', 'Nivel de Formação', 'CNAEF - Código Grande Grupo', 'CNAEF - Grande grupo', 'CNAEF - Código Área de Estudo', 'CNAEF - Área de Estudo', 'CNAEF - Código Área de Educação e Formação ', 'CNAEF - Área de Educação e Formação', 'Sexo', 'Total']\n",
      "['Código Estabelecimento ', 'Estabelecimento', 'Código Unidade Orgânica', 'Unidade Orgânica', 'NUTS II', 'NUTS III', 'Distrito', 'Concelho', 'Subsistema de Ensino', 'Tipo de Ensino', 'Código Curso', 'Curso', 'Nivel de Formação', 'CNAEF - Código Grande Grupo', 'CNAEF - Grande grupo', 'CNAEF - Código Área de Estudo', 'CNAEF - Área de Estudo', 'CNAEF - Código Área de Educação e Formação ', 'CNAEF - Área de Educação e Formação', 'Sexo', 'Nacionalidade', 'Total']\n",
      "['Código Estabelecimento ', 'Estabelecimento', 'Código Unidade Orgânica', 'Unidade Orgânica', 'NUTS II', 'NUTS III', 'Distrito', 'Concelho', 'Subsistema de Ensino', 'Tipo de Ensino', 'Código Curso', 'Curso', 'Nivel de Formação', 'CNAEF - Código Grande Grupo', 'CNAEF - Grande grupo', 'CNAEF - Código Área de Estudo', 'CNAEF - Área de Estudo', 'CNAEF - Código Área de Educação e Formação ', 'CNAEF - Área de Educação e Formação', 'Sexo', 'Nacionalidade', 'Total']\n",
      "['Código Estabelecimento ', 'Estabelecimento', 'Código Unidade Orgânica', 'Unidade Orgânica', 'NUTS II', 'NUTS III', 'Distrito', 'Concelho', 'Subsistema de Ensino', 'Tipo de Ensino', 'Código Curso', 'Curso', 'Nivel de Formação', 'CNAEF - Código Grande Grupo', 'CNAEF - Grande grupo', 'CNAEF - Código Área de Estudo', 'CNAEF - Área de Estudo', 'CNAEF - Código Área de Educação e Formação ', 'CNAEF - Área de Educação e Formação', 'Sexo', 'Nacionalidade', 'Total']\n",
      "['Código Estabelecimento', 'Estabelecimento', 'Código Unidade Orgânica', 'Unidade Orgânica', 'NUTS II', 'NUTS III', 'Distrito', 'Concelho ', 'Subsistema de Ensino', 'Tipo de Ensino', 'Código Curso', 'Curso', 'Nível de Formação', 'CNAEF - Código Grande Grupo ', 'CNAEF - Grande grupo', 'CNAEF - Código Área de Estudo', 'CNAEF - Área de Estudo', 'CNAEF - Código Área de Educação e Formação', 'CNAEF - Área de Educação e Formação', 'Sexo', 'País', 'Total']\n",
      "['Código Estabelecimento ', 'Estabelecimento', 'Código Unidade Orgânica', 'Unidade Orgânica', 'NUTS II', 'NUTS III', 'Distrito', 'Concelho', 'Subsistema de Ensino', 'Tipo de Ensino', 'Código Curso', 'Curso', 'Nivel de Formação', 'CNAEF - Código Grande Grupo', 'CNAEF - Grande grupo', 'CNAEF - Código Área de Estudo', 'CNAEF - Área de Estudo', 'CNAEF - Código Área de Educação e Formação ', 'CNAEF - Área de Educação e Formação', 'Sexo', 'País', 'Total']\n",
      "['Código Estabelecimento ', 'Estabelecimento', 'Código Unidade Orgânica', 'Unidade Orgânica', 'NUTS I', 'NUTS II', 'NUTS III', 'Distrito', 'Concelho', 'Subsistema de Ensino', 'Tipo de Ensino', 'Código Curso', 'Curso', 'Nivel de Formação', 'CNAEF - Código Grande Grupo', 'CNAEF - Grande grupo', 'CNAEF - Código Área de Estudo', 'CNAEF - Área de Estudo', 'CNAEF - Código Área de Educação e Formação ', 'CNAEF - Área de Educação e Formação', 'Sexo', 'País', 'Total']\n",
      "['Código Estabelecimento ', 'Estabelecimento', 'Código Unidade Orgânica', 'Unidade Orgânica', 'NUTSI', 'NUTSII 2001', 'NUTSII 2002', 'NUTSII 2013', 'NUTSIII 2001', 'NUTSIII 2002', 'NUTSIII 2013', 'Distrito', 'Concelho', 'Subsistema de Ensino', 'Tipo de Ensino', 'Código Curso', 'Curso', 'Nivel de Formação', 'CNAEF - Código Grande Grupo', 'CNAEF - Grande grupo', 'CNAEF - Código Área de Estudo', 'CNAEF - Área de Estudo', 'CNAEF - Código Área de Educação e Formação ', 'CNAEF - Área de Educação e Formação', 'Sexo', 'País', 'Total']\n",
      "['Código Estabelecimento ', 'Estabelecimento', 'Código Unidade Orgânica', 'Unidade Orgânica', 'NUTSI', 'NUTSII 2001', 'NUTSII 2002', 'NUTSII 2013', 'NUTSIII 2001', 'NUTSIII 2002', 'NUTSIII 2013', 'Distrito', 'Concelho', 'Subsistema de Ensino', 'Tipo de Ensino', 'Código Curso', 'Curso', 'Nivel de Formação', 'CNAEF - Código Grande Grupo', 'CNAEF - Grande grupo', 'CNAEF - Código Área de Estudo', 'CNAEF - Área de Estudo', 'CNAEF - Código Área de Educação e Formação ', 'CNAEF - Área de Educação e Formação', 'Sexo', 'Nacionalidade', 'Total']\n",
      "['Código Estabelecimento ', 'Estabelecimento', 'Código Unidade Orgânica', 'Unidade Orgânica', 'NUTS I', 'NUTS II - 2001', 'NUTS II - 2002', 'NUTS II - 2013', 'NUTS III - 2001', 'NUTS III - 2002', 'NUTS III - 2013', 'Distrito', 'Concelho', 'Natureza do Estabelecimento de Ensino', 'Tipo de Ensino', 'Código Curso', 'Curso', 'Curso/Ciclo de Estudos', 'Área de Educação e Formação - Código Área Geral', 'Área de Educação e Formação - Área Geral', 'Área de Educação e Formação - Código Área Específica', 'Área de Educação e Formação - Área Específica', 'Área de Educação e Formação - Código Área Detalhada', 'Área de Educação e Formação - Área Detalhada', 'Sexo', 'Nacionalidade', 'Total']\n",
      "['Código Estabelecimento ', 'Estabelecimento', 'Código Unidade Orgânica', 'Unidade Orgânica', 'NUTS I', 'NUTS II - 2001', 'NUTS II - 2002', 'NUTS II - 2013', 'NUTS III - 2001', 'NUTS III - 2002', 'NUTS III - 2013', 'Distrito', 'Concelho', 'Natureza do Estabelecimento de Ensino', 'Tipo de Ensino', 'Código Curso', 'Curso', 'Curso/Ciclo de Estudos', 'Área de Educação e Formação - Código Área Geral', 'Área de Educação e Formação - Área Geral', 'Área de Educação e Formação - Código Área Específica', 'Área de Educação e Formação - Área Específica', 'Área de Educação e Formação - Código Área Detalhada', 'Área de Educação e Formação - Área Detalhada', 'Sexo', 'Nacionalidade', 'Total']\n",
      "['Código Estabelecimento ', 'Estabelecimento', 'Código Unidade Orgânica', 'Unidade Orgânica', 'NUTS I', 'NUTS II - 2001', 'NUTS II - 2002', 'NUTS II - 2013', 'NUTS III - 2001', 'NUTS III - 2002', 'NUTS III - 2013', 'Distrito', 'Município', 'Natureza do Estabelecimento de Ensino', 'Tipo de Ensino', 'Código Curso', 'Curso', 'Curso/Ciclo de Estudos', 'Área de Educação e Formação - Código Área Geral', 'Área de Educação e Formação - Área Geral', 'Área de Educação e Formação - Código Área Específica', 'Área de Educação e Formação - Área Específica', 'Área de Educação e Formação - Código Área Detalhada', 'Área de Educação e Formação - Área Detalhada', 'Sexo', 'Nacionalidade', 'Total']\n",
      "['Código Estabelecimento', 'Estabelecimento', 'Código Unidade Orgânica', 'Unidade Orgânica', 'NUTS I', 'NUTS II - 2001', 'NUTS II - 2002', 'NUTS II - 2013', 'NUTS III - 2001', 'NUTS III - 2002', 'NUTS III - 2013', 'Distrito', 'Município', 'Natureza do Estabelecimento de Ensino', 'Tipo de Ensino', 'Código Curso', 'Curso', 'Curso/Ciclo de Estudos', 'Área de Educação e Formação - Código Área Geral', 'Área de Educação e Formação - Área Geral', 'Área de Educação e Formação - Código Área Específica', 'Área de Educação e Formação - Área Específica', 'Área de Educação e Formação - Código Área Detalhada', 'Área de Educação e Formação - Área Detalhada', 'Sexo', 'Mobilidade de Crédito', 'Mobilidade de Grau', 'País de Nacionalidade', 'Total']\n",
      "['Código Estabelecimento', 'Estabelecimento', 'Código Unidade Orgânica', 'Unidade Orgânica', 'NUTS I', 'NUTS II - 2001', 'NUTS II - 2002', 'NUTS II - 2013', 'NUTS III - 2001', 'NUTS III - 2002', 'NUTS III - 2013', 'Distrito', 'Município', 'Natureza do Estabelecimento de Ensino', 'Tipo de Ensino', 'Código Curso', 'Curso', 'Curso/Ciclo de Estudos', 'Área de Educação e Formação - Código Área Geral', 'Área de Educação e Formação - Área Geral', 'Área de Educação e Formação - Código Área Específica', 'Área de Educação e Formação - Área Específica', 'Área de Educação e Formação - Código Área Detalhada', 'Área de Educação e Formação - Área Detalhada', 'Sexo', 'Mobilidade de Crédito', 'Mobilidade de Grau', 'País de Nacionalidade', 'Total']\n",
      "['Código Estabelecimento', 'Estabelecimento', 'Código Unidade Orgânica', 'Unidade Orgânica', 'NUTS I', 'NUTS II - 2001', 'NUTS II - 2002', 'NUTS II - 2013', 'NUTS III - 2001', 'NUTS III - 2002', 'NUTS III - 2013', 'Distrito', 'Município', 'Natureza do Estabelecimento de Ensino', 'Tipo de Ensino', 'Código Curso', 'Curso', 'Curso/Ciclo de Estudos', 'Área de Educação e Formação - Código Área Geral', 'Área de Educação e Formação - Área Geral', 'Área de Educação e Formação - Código Área Específica', 'Área de Educação e Formação - Área Específica', 'Área de Educação e Formação - Código Área Detalhada', 'Área de Educação e Formação - Área Detalhada', 'Sexo', 'Mobilidade de Crédito', 'Mobilidade de Grau', 'País de Nacionalidade', 'Total']\n",
      "['Código Estabelecimento', 'Estabelecimento', 'Código Unidade Orgânica', 'Unidade Orgânica', 'NUTS I', 'NUTS II - 2002', 'NUTS III - 2002', 'NUTS II - 2013', 'NUTS III - 2013', 'Distrito', 'Município', 'Natureza do Estabelecimento de Ensino', 'Tipo de Ensino', 'Código Curso', 'Curso', 'Curso/Ciclo de Estudos', 'Área de Educação e Formação - Código Área Geral', 'Área de Educação e Formação - Área Geral', 'Área de Educação e Formação - Código Área Específica', 'Área de Educação e Formação - Área Específica', 'Área de Educação e Formação - Código Área Detalhada', 'Área de Educação e Formação - Área Detalhada', 'Sexo', 'Grupo Etário', 'País de Nacionalidade', 'Mobilidade de Crédito', 'Mobilidade de Grau', 'N']\n"
     ]
    }
   ],
   "source": [
    "# diplomados\n",
    "path = r\"C:\\Users\\bruno\\Desktop\\Projeto CBD\\Dados\\Inscritos\"\n",
    "excel_files = glob.glob(path + '/*.xlsx')\n",
    "\n",
    "for file_path in excel_files:\n",
    "    column_names = pd.read_excel(file_path, nrows=0).columns.tolist()\n",
    "\n",
    "    print(column_names)"
   ]
  },
  {
   "cell_type": "code",
   "execution_count": 8,
   "metadata": {},
   "outputs": [
    {
     "ename": "KeyboardInterrupt",
     "evalue": "",
     "output_type": "error",
     "traceback": [
      "\u001b[1;31m---------------------------------------------------------------------------\u001b[0m",
      "\u001b[1;31mKeyboardInterrupt\u001b[0m                         Traceback (most recent call last)",
      "Cell \u001b[1;32mIn[8], line 59\u001b[0m\n\u001b[0;32m     56\u001b[0m new_filename \u001b[38;5;241m=\u001b[39m os\u001b[38;5;241m.\u001b[39mpath\u001b[38;5;241m.\u001b[39mjoin(save_path, \u001b[38;5;124mf\u001b[39m\u001b[38;5;124m\"\u001b[39m\u001b[38;5;124minscritos\u001b[39m\u001b[38;5;132;01m{\u001b[39;00midx\u001b[38;5;132;01m}\u001b[39;00m\u001b[38;5;124m_\u001b[39m\u001b[38;5;132;01m{\u001b[39;00msheet_name\u001b[38;5;132;01m}\u001b[39;00m\u001b[38;5;124m.xlsx\u001b[39m\u001b[38;5;124m\"\u001b[39m)\n\u001b[0;32m     58\u001b[0m \u001b[38;5;66;03m# Save the DataFrame to a new Excel file in the output directory\u001b[39;00m\n\u001b[1;32m---> 59\u001b[0m \u001b[43mdf_selected\u001b[49m\u001b[38;5;241;43m.\u001b[39;49m\u001b[43mto_excel\u001b[49m\u001b[43m(\u001b[49m\u001b[43mnew_filename\u001b[49m\u001b[43m,\u001b[49m\u001b[43m \u001b[49m\u001b[43mindex\u001b[49m\u001b[38;5;241;43m=\u001b[39;49m\u001b[38;5;28;43;01mFalse\u001b[39;49;00m\u001b[43m)\u001b[49m\n",
      "File \u001b[1;32mc:\\Users\\bruno\\AppData\\Local\\Programs\\Python\\Python311\\Lib\\site-packages\\pandas\\util\\_decorators.py:333\u001b[0m, in \u001b[0;36mdeprecate_nonkeyword_arguments.<locals>.decorate.<locals>.wrapper\u001b[1;34m(*args, **kwargs)\u001b[0m\n\u001b[0;32m    327\u001b[0m \u001b[38;5;28;01mif\u001b[39;00m \u001b[38;5;28mlen\u001b[39m(args) \u001b[38;5;241m>\u001b[39m num_allow_args:\n\u001b[0;32m    328\u001b[0m     warnings\u001b[38;5;241m.\u001b[39mwarn(\n\u001b[0;32m    329\u001b[0m         msg\u001b[38;5;241m.\u001b[39mformat(arguments\u001b[38;5;241m=\u001b[39m_format_argument_list(allow_args)),\n\u001b[0;32m    330\u001b[0m         \u001b[38;5;167;01mFutureWarning\u001b[39;00m,\n\u001b[0;32m    331\u001b[0m         stacklevel\u001b[38;5;241m=\u001b[39mfind_stack_level(),\n\u001b[0;32m    332\u001b[0m     )\n\u001b[1;32m--> 333\u001b[0m \u001b[38;5;28;01mreturn\u001b[39;00m \u001b[43mfunc\u001b[49m\u001b[43m(\u001b[49m\u001b[38;5;241;43m*\u001b[39;49m\u001b[43margs\u001b[49m\u001b[43m,\u001b[49m\u001b[43m \u001b[49m\u001b[38;5;241;43m*\u001b[39;49m\u001b[38;5;241;43m*\u001b[39;49m\u001b[43mkwargs\u001b[49m\u001b[43m)\u001b[49m\n",
      "File \u001b[1;32mc:\\Users\\bruno\\AppData\\Local\\Programs\\Python\\Python311\\Lib\\site-packages\\pandas\\core\\generic.py:2414\u001b[0m, in \u001b[0;36mNDFrame.to_excel\u001b[1;34m(self, excel_writer, sheet_name, na_rep, float_format, columns, header, index, index_label, startrow, startcol, engine, merge_cells, inf_rep, freeze_panes, storage_options, engine_kwargs)\u001b[0m\n\u001b[0;32m   2401\u001b[0m \u001b[38;5;28;01mfrom\u001b[39;00m \u001b[38;5;21;01mpandas\u001b[39;00m\u001b[38;5;21;01m.\u001b[39;00m\u001b[38;5;21;01mio\u001b[39;00m\u001b[38;5;21;01m.\u001b[39;00m\u001b[38;5;21;01mformats\u001b[39;00m\u001b[38;5;21;01m.\u001b[39;00m\u001b[38;5;21;01mexcel\u001b[39;00m \u001b[38;5;28;01mimport\u001b[39;00m ExcelFormatter\n\u001b[0;32m   2403\u001b[0m formatter \u001b[38;5;241m=\u001b[39m ExcelFormatter(\n\u001b[0;32m   2404\u001b[0m     df,\n\u001b[0;32m   2405\u001b[0m     na_rep\u001b[38;5;241m=\u001b[39mna_rep,\n\u001b[1;32m   (...)\u001b[0m\n\u001b[0;32m   2412\u001b[0m     inf_rep\u001b[38;5;241m=\u001b[39minf_rep,\n\u001b[0;32m   2413\u001b[0m )\n\u001b[1;32m-> 2414\u001b[0m \u001b[43mformatter\u001b[49m\u001b[38;5;241;43m.\u001b[39;49m\u001b[43mwrite\u001b[49m\u001b[43m(\u001b[49m\n\u001b[0;32m   2415\u001b[0m \u001b[43m    \u001b[49m\u001b[43mexcel_writer\u001b[49m\u001b[43m,\u001b[49m\n\u001b[0;32m   2416\u001b[0m \u001b[43m    \u001b[49m\u001b[43msheet_name\u001b[49m\u001b[38;5;241;43m=\u001b[39;49m\u001b[43msheet_name\u001b[49m\u001b[43m,\u001b[49m\n\u001b[0;32m   2417\u001b[0m \u001b[43m    \u001b[49m\u001b[43mstartrow\u001b[49m\u001b[38;5;241;43m=\u001b[39;49m\u001b[43mstartrow\u001b[49m\u001b[43m,\u001b[49m\n\u001b[0;32m   2418\u001b[0m \u001b[43m    \u001b[49m\u001b[43mstartcol\u001b[49m\u001b[38;5;241;43m=\u001b[39;49m\u001b[43mstartcol\u001b[49m\u001b[43m,\u001b[49m\n\u001b[0;32m   2419\u001b[0m \u001b[43m    \u001b[49m\u001b[43mfreeze_panes\u001b[49m\u001b[38;5;241;43m=\u001b[39;49m\u001b[43mfreeze_panes\u001b[49m\u001b[43m,\u001b[49m\n\u001b[0;32m   2420\u001b[0m \u001b[43m    \u001b[49m\u001b[43mengine\u001b[49m\u001b[38;5;241;43m=\u001b[39;49m\u001b[43mengine\u001b[49m\u001b[43m,\u001b[49m\n\u001b[0;32m   2421\u001b[0m \u001b[43m    \u001b[49m\u001b[43mstorage_options\u001b[49m\u001b[38;5;241;43m=\u001b[39;49m\u001b[43mstorage_options\u001b[49m\u001b[43m,\u001b[49m\n\u001b[0;32m   2422\u001b[0m \u001b[43m    \u001b[49m\u001b[43mengine_kwargs\u001b[49m\u001b[38;5;241;43m=\u001b[39;49m\u001b[43mengine_kwargs\u001b[49m\u001b[43m,\u001b[49m\n\u001b[0;32m   2423\u001b[0m \u001b[43m\u001b[49m\u001b[43m)\u001b[49m\n",
      "File \u001b[1;32mc:\\Users\\bruno\\AppData\\Local\\Programs\\Python\\Python311\\Lib\\site-packages\\pandas\\io\\formats\\excel.py:952\u001b[0m, in \u001b[0;36mExcelFormatter.write\u001b[1;34m(self, writer, sheet_name, startrow, startcol, freeze_panes, engine, storage_options, engine_kwargs)\u001b[0m\n\u001b[0;32m    949\u001b[0m     need_save \u001b[38;5;241m=\u001b[39m \u001b[38;5;28;01mTrue\u001b[39;00m\n\u001b[0;32m    951\u001b[0m \u001b[38;5;28;01mtry\u001b[39;00m:\n\u001b[1;32m--> 952\u001b[0m     \u001b[43mwriter\u001b[49m\u001b[38;5;241;43m.\u001b[39;49m\u001b[43m_write_cells\u001b[49m\u001b[43m(\u001b[49m\n\u001b[0;32m    953\u001b[0m \u001b[43m        \u001b[49m\u001b[43mformatted_cells\u001b[49m\u001b[43m,\u001b[49m\n\u001b[0;32m    954\u001b[0m \u001b[43m        \u001b[49m\u001b[43msheet_name\u001b[49m\u001b[43m,\u001b[49m\n\u001b[0;32m    955\u001b[0m \u001b[43m        \u001b[49m\u001b[43mstartrow\u001b[49m\u001b[38;5;241;43m=\u001b[39;49m\u001b[43mstartrow\u001b[49m\u001b[43m,\u001b[49m\n\u001b[0;32m    956\u001b[0m \u001b[43m        \u001b[49m\u001b[43mstartcol\u001b[49m\u001b[38;5;241;43m=\u001b[39;49m\u001b[43mstartcol\u001b[49m\u001b[43m,\u001b[49m\n\u001b[0;32m    957\u001b[0m \u001b[43m        \u001b[49m\u001b[43mfreeze_panes\u001b[49m\u001b[38;5;241;43m=\u001b[39;49m\u001b[43mfreeze_panes\u001b[49m\u001b[43m,\u001b[49m\n\u001b[0;32m    958\u001b[0m \u001b[43m    \u001b[49m\u001b[43m)\u001b[49m\n\u001b[0;32m    959\u001b[0m \u001b[38;5;28;01mfinally\u001b[39;00m:\n\u001b[0;32m    960\u001b[0m     \u001b[38;5;66;03m# make sure to close opened file handles\u001b[39;00m\n\u001b[0;32m    961\u001b[0m     \u001b[38;5;28;01mif\u001b[39;00m need_save:\n",
      "File \u001b[1;32mc:\\Users\\bruno\\AppData\\Local\\Programs\\Python\\Python311\\Lib\\site-packages\\pandas\\io\\excel\\_openpyxl.py:490\u001b[0m, in \u001b[0;36mOpenpyxlWriter._write_cells\u001b[1;34m(self, cells, sheet_name, startrow, startcol, freeze_panes)\u001b[0m\n\u001b[0;32m    486\u001b[0m \u001b[38;5;28;01mfor\u001b[39;00m cell \u001b[38;5;129;01min\u001b[39;00m cells:\n\u001b[0;32m    487\u001b[0m     xcell \u001b[38;5;241m=\u001b[39m wks\u001b[38;5;241m.\u001b[39mcell(\n\u001b[0;32m    488\u001b[0m         row\u001b[38;5;241m=\u001b[39mstartrow \u001b[38;5;241m+\u001b[39m cell\u001b[38;5;241m.\u001b[39mrow \u001b[38;5;241m+\u001b[39m \u001b[38;5;241m1\u001b[39m, column\u001b[38;5;241m=\u001b[39mstartcol \u001b[38;5;241m+\u001b[39m cell\u001b[38;5;241m.\u001b[39mcol \u001b[38;5;241m+\u001b[39m \u001b[38;5;241m1\u001b[39m\n\u001b[0;32m    489\u001b[0m     )\n\u001b[1;32m--> 490\u001b[0m     \u001b[43mxcell\u001b[49m\u001b[38;5;241;43m.\u001b[39;49m\u001b[43mvalue\u001b[49m, fmt \u001b[38;5;241m=\u001b[39m \u001b[38;5;28mself\u001b[39m\u001b[38;5;241m.\u001b[39m_value_with_fmt(cell\u001b[38;5;241m.\u001b[39mval)\n\u001b[0;32m    491\u001b[0m     \u001b[38;5;28;01mif\u001b[39;00m fmt:\n\u001b[0;32m    492\u001b[0m         xcell\u001b[38;5;241m.\u001b[39mnumber_format \u001b[38;5;241m=\u001b[39m fmt\n",
      "File \u001b[1;32mc:\\Users\\bruno\\AppData\\Local\\Programs\\Python\\Python311\\Lib\\site-packages\\openpyxl\\cell\\cell.py:218\u001b[0m, in \u001b[0;36mCell.value\u001b[1;34m(self, value)\u001b[0m\n\u001b[0;32m    215\u001b[0m \u001b[38;5;129m@value\u001b[39m\u001b[38;5;241m.\u001b[39msetter\n\u001b[0;32m    216\u001b[0m \u001b[38;5;28;01mdef\u001b[39;00m \u001b[38;5;21mvalue\u001b[39m(\u001b[38;5;28mself\u001b[39m, value):\n\u001b[0;32m    217\u001b[0m \u001b[38;5;250m    \u001b[39m\u001b[38;5;124;03m\"\"\"Set the value and infer type and display options.\"\"\"\u001b[39;00m\n\u001b[1;32m--> 218\u001b[0m     \u001b[38;5;28;43mself\u001b[39;49m\u001b[38;5;241;43m.\u001b[39;49m\u001b[43m_bind_value\u001b[49m\u001b[43m(\u001b[49m\u001b[43mvalue\u001b[49m\u001b[43m)\u001b[49m\n",
      "File \u001b[1;32mc:\\Users\\bruno\\AppData\\Local\\Programs\\Python\\Python311\\Lib\\site-packages\\openpyxl\\cell\\cell.py:197\u001b[0m, in \u001b[0;36mCell._bind_value\u001b[1;34m(self, value)\u001b[0m\n\u001b[0;32m    194\u001b[0m         \u001b[38;5;28mself\u001b[39m\u001b[38;5;241m.\u001b[39mnumber_format \u001b[38;5;241m=\u001b[39m get_time_format(t)\n\u001b[0;32m    196\u001b[0m \u001b[38;5;28;01melif\u001b[39;00m dt \u001b[38;5;241m==\u001b[39m \u001b[38;5;124m\"\u001b[39m\u001b[38;5;124ms\u001b[39m\u001b[38;5;124m\"\u001b[39m \u001b[38;5;129;01mand\u001b[39;00m \u001b[38;5;129;01mnot\u001b[39;00m \u001b[38;5;28misinstance\u001b[39m(value, CellRichText):\n\u001b[1;32m--> 197\u001b[0m     value \u001b[38;5;241m=\u001b[39m \u001b[38;5;28;43mself\u001b[39;49m\u001b[38;5;241;43m.\u001b[39;49m\u001b[43mcheck_string\u001b[49m\u001b[43m(\u001b[49m\u001b[43mvalue\u001b[49m\u001b[43m)\u001b[49m\n\u001b[0;32m    198\u001b[0m     \u001b[38;5;28;01mif\u001b[39;00m \u001b[38;5;28mlen\u001b[39m(value) \u001b[38;5;241m>\u001b[39m \u001b[38;5;241m1\u001b[39m \u001b[38;5;129;01mand\u001b[39;00m value\u001b[38;5;241m.\u001b[39mstartswith(\u001b[38;5;124m\"\u001b[39m\u001b[38;5;124m=\u001b[39m\u001b[38;5;124m\"\u001b[39m):\n\u001b[0;32m    199\u001b[0m         \u001b[38;5;28mself\u001b[39m\u001b[38;5;241m.\u001b[39mdata_type \u001b[38;5;241m=\u001b[39m \u001b[38;5;124m'\u001b[39m\u001b[38;5;124mf\u001b[39m\u001b[38;5;124m'\u001b[39m\n",
      "File \u001b[1;32mc:\\Users\\bruno\\AppData\\Local\\Programs\\Python\\Python311\\Lib\\site-packages\\openpyxl\\cell\\cell.py:164\u001b[0m, in \u001b[0;36mCell.check_string\u001b[1;34m(self, value)\u001b[0m\n\u001b[0;32m    161\u001b[0m \u001b[38;5;66;03m# string must never be longer than 32,767 characters\u001b[39;00m\n\u001b[0;32m    162\u001b[0m \u001b[38;5;66;03m# truncate if necessary\u001b[39;00m\n\u001b[0;32m    163\u001b[0m value \u001b[38;5;241m=\u001b[39m value[:\u001b[38;5;241m32767\u001b[39m]\n\u001b[1;32m--> 164\u001b[0m \u001b[38;5;28;01mif\u001b[39;00m \u001b[38;5;28mnext\u001b[39m(\u001b[43mILLEGAL_CHARACTERS_RE\u001b[49m\u001b[38;5;241;43m.\u001b[39;49m\u001b[43mfinditer\u001b[49m\u001b[43m(\u001b[49m\u001b[43mvalue\u001b[49m\u001b[43m)\u001b[49m, \u001b[38;5;28;01mNone\u001b[39;00m):\n\u001b[0;32m    165\u001b[0m     \u001b[38;5;28;01mraise\u001b[39;00m IllegalCharacterError(\u001b[38;5;124mf\u001b[39m\u001b[38;5;124m\"\u001b[39m\u001b[38;5;132;01m{\u001b[39;00mvalue\u001b[38;5;132;01m}\u001b[39;00m\u001b[38;5;124m cannot be used in worksheets.\u001b[39m\u001b[38;5;124m\"\u001b[39m)\n\u001b[0;32m    166\u001b[0m \u001b[38;5;28;01mreturn\u001b[39;00m value\n",
      "\u001b[1;31mKeyboardInterrupt\u001b[0m: "
     ]
    }
   ],
   "source": [
    "import glob\n",
    "import pandas as pd\n",
    "import os\n",
    "\n",
    "dict_colunas = {'Subsistema de Ensino':'natureza_do_estabelecimento',\n",
    "                'Estabelecimento':'nome_estabelecimento',\n",
    "                'Tipo de Ensino':'tipo_de_ensino',\n",
    "                'Nivel de Formação':'nivel_de_formacao',\n",
    "                'Curso':'curso',\n",
    "                'Distrito':'distrito',\n",
    "                'Sexo':'sexo',\n",
    "                'Total':'total',\n",
    "                'CNAEF - Grande grupo':'grande_grupo',\n",
    "                'País de Nacionalidade':'pais'}\n",
    "\n",
    "\n",
    "path = r\"C:\\Users\\bruno\\Desktop\\Projeto CBD\\Dados\\Inscritos\"\n",
    "\n",
    "excel_files = glob.glob(path + '/*.xlsx')\n",
    "\n",
    "script_dir = os.getcwd()\n",
    "\n",
    "save_path = os.path.join(script_dir, 'datasets_inscritos')\n",
    "\n",
    "os.makedirs(save_path, exist_ok=True)\n",
    "\n",
    "for idx, file in enumerate(excel_files, 1):\n",
    "    # Create an ExcelFile object without reading the file into memory\n",
    "    xls = pd.ExcelFile(file)\n",
    "    \n",
    "    # Initialize a dictionary to store selected and renamed columns\n",
    "    selected_columns = {}\n",
    "    \n",
    "    # Iterate over the sheet names in the Excel file\n",
    "    for sheet_name in xls.sheet_names:\n",
    "        # Read only the first row of each sheet to get the column names\n",
    "        df_temp = pd.read_excel(xls, sheet_name, nrows=1)\n",
    "        \n",
    "        # Iterate over the columns in the DataFrame and check if they exist in the dictionary\n",
    "        for col in df_temp.columns:\n",
    "            if col in dict_colunas:\n",
    "                # If the column exists in both the DataFrame and the dictionary, add it to the dictionary\n",
    "                selected_columns[col] = dict_colunas[col]\n",
    "    \n",
    "    # If there are no matching columns, print a message and continue to the next file\n",
    "    if not selected_columns:\n",
    "        print(f\"No matching columns found in file {file}, skipping...\")\n",
    "        continue\n",
    "    \n",
    "    # Select only the specified columns from each sheet and rename them\n",
    "    for sheet_name in xls.sheet_names:\n",
    "        df_selected = pd.read_excel(xls, sheet_name, usecols=selected_columns.keys())\n",
    "        df_selected = df_selected.rename(columns=selected_columns)\n",
    "        \n",
    "        # Create the new filename\n",
    "        new_filename = os.path.join(save_path, f\"inscritos{idx}_{sheet_name}.xlsx\")\n",
    "        \n",
    "        # Save the DataFrame to a new Excel file in the output directory\n",
    "        df_selected.to_excel(new_filename, index=False)\n"
   ]
  },
  {
   "cell_type": "code",
   "execution_count": null,
   "metadata": {},
   "outputs": [],
   "source": [
    "session.execute('''\n",
    "    CREATE TABLE cbd.inscritos (\n",
    "    natureza_do_estabelecimento VARCHAR,\n",
    "    nome_estabelecimento VARCHAR,\n",
    "    tipo_de_ensino VARCHAR,\n",
    "    nivel_de_formacao VARCHAR,\n",
    "    curso VARCHAR,\n",
    "    distrito VARCHAR,\n",
    "    sexo VARCHAR,\n",
    "    total INT,\n",
    "    grande_grupo VARCHAR,\n",
    "    pais VARCHAR,\n",
    "    PRIMARY KEY (natureza_do_estabelecimento, nome_estabelecimento, tipo_de_ensino, nivel_de_formacao, curso)\n",
    ");\n",
    "\n",
    "''')"
   ]
  },
  {
   "cell_type": "code",
   "execution_count": null,
   "metadata": {},
   "outputs": [],
   "source": [
    "for index, row in df2.iterrows():\n",
    "    session.execute(f'''INSERT INTO cbd.teste (\n",
    "                        cod_estab,\n",
    "                        estab,\n",
    "                        cod_curso,\n",
    "                        curso)\n",
    "                        VALUES ({int(row['Código Estabelecimento'])}, '{row['Estabelecimento']}', {(row['Código Curso'])}, '{row['Curso']}'\n",
    "                        )'''\n",
    "                    )\n",
    "    \n",
    "\n",
    "session.execute(f'''INSERT INTO cbd.inscritos(\n",
    "                \n",
    "\n",
    ")\n",
    "''')"
   ]
  },
  {
   "cell_type": "code",
   "execution_count": 24,
   "metadata": {},
   "outputs": [],
   "source": [
    "dict_colunas = {'Subsistema de Ensino':'natureza_do_estabelecimento',\n",
    "                'Estabelecimento':'nome_estabelecimento',\n",
    "                'Tipo de Ensino':'tipo_de_ensino',\n",
    "                'Nivel de Formação':'nivel_de_formacao',\n",
    "                'Curso':'curso',\n",
    "                'Distrito':'distrito',\n",
    "                'Sexo':'sexo',\n",
    "                'Total':'total',\n",
    "                'CNAEF - Grande grupo':'grande_grupo',\n",
    "                'País de Nacionalidade':'pais'}\n",
    "selected_columns = {}"
   ]
  },
  {
   "cell_type": "code",
   "execution_count": 26,
   "metadata": {},
   "outputs": [
    {
     "ename": "ValueError",
     "evalue": "Invalid file path or buffer object type: <class 'openpyxl.workbook.workbook.Workbook'>",
     "output_type": "error",
     "traceback": [
      "\u001b[1;31m---------------------------------------------------------------------------\u001b[0m",
      "\u001b[1;31mValueError\u001b[0m                                Traceback (most recent call last)",
      "Cell \u001b[1;32mIn[26], line 6\u001b[0m\n\u001b[0;32m      4\u001b[0m             selected_columns[col] \u001b[38;5;241m=\u001b[39m dict_colunas[col]\n\u001b[0;32m      5\u001b[0m column_names \u001b[38;5;241m=\u001b[39m df\u001b[38;5;241m.\u001b[39mcolumns\u001b[38;5;241m.\u001b[39mtolist()\n\u001b[1;32m----> 6\u001b[0m df_temp \u001b[38;5;241m=\u001b[39m \u001b[43mpd\u001b[49m\u001b[38;5;241;43m.\u001b[39;49m\u001b[43mread_excel\u001b[49m\u001b[43m(\u001b[49m\u001b[43mxls\u001b[49m\u001b[43m,\u001b[49m\u001b[43m \u001b[49m\u001b[43msheet_name\u001b[49m\u001b[43m,\u001b[49m\u001b[43m \u001b[49m\u001b[43mnrows\u001b[49m\u001b[38;5;241;43m=\u001b[39;49m\u001b[38;5;241;43m1\u001b[39;49m\u001b[43m)\u001b[49m\n\u001b[0;32m      7\u001b[0m df_selected \u001b[38;5;241m=\u001b[39m pd\u001b[38;5;241m.\u001b[39mread_excel(xls, sheet_name, usecols\u001b[38;5;241m=\u001b[39mselected_columns\u001b[38;5;241m.\u001b[39mkeys())\n\u001b[0;32m      8\u001b[0m df_selected \u001b[38;5;241m=\u001b[39m df_selected\u001b[38;5;241m.\u001b[39mrename(columns\u001b[38;5;241m=\u001b[39mselected_columns)\n",
      "File \u001b[1;32mc:\\Users\\bruno\\AppData\\Local\\Programs\\Python\\Python311\\Lib\\site-packages\\pandas\\io\\excel\\_base.py:495\u001b[0m, in \u001b[0;36mread_excel\u001b[1;34m(io, sheet_name, header, names, index_col, usecols, dtype, engine, converters, true_values, false_values, skiprows, nrows, na_values, keep_default_na, na_filter, verbose, parse_dates, date_parser, date_format, thousands, decimal, comment, skipfooter, storage_options, dtype_backend, engine_kwargs)\u001b[0m\n\u001b[0;32m    493\u001b[0m \u001b[38;5;28;01mif\u001b[39;00m \u001b[38;5;129;01mnot\u001b[39;00m \u001b[38;5;28misinstance\u001b[39m(io, ExcelFile):\n\u001b[0;32m    494\u001b[0m     should_close \u001b[38;5;241m=\u001b[39m \u001b[38;5;28;01mTrue\u001b[39;00m\n\u001b[1;32m--> 495\u001b[0m     io \u001b[38;5;241m=\u001b[39m \u001b[43mExcelFile\u001b[49m\u001b[43m(\u001b[49m\n\u001b[0;32m    496\u001b[0m \u001b[43m        \u001b[49m\u001b[43mio\u001b[49m\u001b[43m,\u001b[49m\n\u001b[0;32m    497\u001b[0m \u001b[43m        \u001b[49m\u001b[43mstorage_options\u001b[49m\u001b[38;5;241;43m=\u001b[39;49m\u001b[43mstorage_options\u001b[49m\u001b[43m,\u001b[49m\n\u001b[0;32m    498\u001b[0m \u001b[43m        \u001b[49m\u001b[43mengine\u001b[49m\u001b[38;5;241;43m=\u001b[39;49m\u001b[43mengine\u001b[49m\u001b[43m,\u001b[49m\n\u001b[0;32m    499\u001b[0m \u001b[43m        \u001b[49m\u001b[43mengine_kwargs\u001b[49m\u001b[38;5;241;43m=\u001b[39;49m\u001b[43mengine_kwargs\u001b[49m\u001b[43m,\u001b[49m\n\u001b[0;32m    500\u001b[0m \u001b[43m    \u001b[49m\u001b[43m)\u001b[49m\n\u001b[0;32m    501\u001b[0m \u001b[38;5;28;01melif\u001b[39;00m engine \u001b[38;5;129;01mand\u001b[39;00m engine \u001b[38;5;241m!=\u001b[39m io\u001b[38;5;241m.\u001b[39mengine:\n\u001b[0;32m    502\u001b[0m     \u001b[38;5;28;01mraise\u001b[39;00m \u001b[38;5;167;01mValueError\u001b[39;00m(\n\u001b[0;32m    503\u001b[0m         \u001b[38;5;124m\"\u001b[39m\u001b[38;5;124mEngine should not be specified when passing \u001b[39m\u001b[38;5;124m\"\u001b[39m\n\u001b[0;32m    504\u001b[0m         \u001b[38;5;124m\"\u001b[39m\u001b[38;5;124man ExcelFile - ExcelFile already has the engine set\u001b[39m\u001b[38;5;124m\"\u001b[39m\n\u001b[0;32m    505\u001b[0m     )\n",
      "File \u001b[1;32mc:\\Users\\bruno\\AppData\\Local\\Programs\\Python\\Python311\\Lib\\site-packages\\pandas\\io\\excel\\_base.py:1550\u001b[0m, in \u001b[0;36mExcelFile.__init__\u001b[1;34m(self, path_or_buffer, engine, storage_options, engine_kwargs)\u001b[0m\n\u001b[0;32m   1548\u001b[0m     ext \u001b[38;5;241m=\u001b[39m \u001b[38;5;124m\"\u001b[39m\u001b[38;5;124mxls\u001b[39m\u001b[38;5;124m\"\u001b[39m\n\u001b[0;32m   1549\u001b[0m \u001b[38;5;28;01melse\u001b[39;00m:\n\u001b[1;32m-> 1550\u001b[0m     ext \u001b[38;5;241m=\u001b[39m \u001b[43minspect_excel_format\u001b[49m\u001b[43m(\u001b[49m\n\u001b[0;32m   1551\u001b[0m \u001b[43m        \u001b[49m\u001b[43mcontent_or_path\u001b[49m\u001b[38;5;241;43m=\u001b[39;49m\u001b[43mpath_or_buffer\u001b[49m\u001b[43m,\u001b[49m\u001b[43m \u001b[49m\u001b[43mstorage_options\u001b[49m\u001b[38;5;241;43m=\u001b[39;49m\u001b[43mstorage_options\u001b[49m\n\u001b[0;32m   1552\u001b[0m \u001b[43m    \u001b[49m\u001b[43m)\u001b[49m\n\u001b[0;32m   1553\u001b[0m     \u001b[38;5;28;01mif\u001b[39;00m ext \u001b[38;5;129;01mis\u001b[39;00m \u001b[38;5;28;01mNone\u001b[39;00m:\n\u001b[0;32m   1554\u001b[0m         \u001b[38;5;28;01mraise\u001b[39;00m \u001b[38;5;167;01mValueError\u001b[39;00m(\n\u001b[0;32m   1555\u001b[0m             \u001b[38;5;124m\"\u001b[39m\u001b[38;5;124mExcel file format cannot be determined, you must specify \u001b[39m\u001b[38;5;124m\"\u001b[39m\n\u001b[0;32m   1556\u001b[0m             \u001b[38;5;124m\"\u001b[39m\u001b[38;5;124man engine manually.\u001b[39m\u001b[38;5;124m\"\u001b[39m\n\u001b[0;32m   1557\u001b[0m         )\n",
      "File \u001b[1;32mc:\\Users\\bruno\\AppData\\Local\\Programs\\Python\\Python311\\Lib\\site-packages\\pandas\\io\\excel\\_base.py:1402\u001b[0m, in \u001b[0;36minspect_excel_format\u001b[1;34m(content_or_path, storage_options)\u001b[0m\n\u001b[0;32m   1399\u001b[0m \u001b[38;5;28;01mif\u001b[39;00m \u001b[38;5;28misinstance\u001b[39m(content_or_path, \u001b[38;5;28mbytes\u001b[39m):\n\u001b[0;32m   1400\u001b[0m     content_or_path \u001b[38;5;241m=\u001b[39m BytesIO(content_or_path)\n\u001b[1;32m-> 1402\u001b[0m \u001b[38;5;28;01mwith\u001b[39;00m \u001b[43mget_handle\u001b[49m\u001b[43m(\u001b[49m\n\u001b[0;32m   1403\u001b[0m \u001b[43m    \u001b[49m\u001b[43mcontent_or_path\u001b[49m\u001b[43m,\u001b[49m\u001b[43m \u001b[49m\u001b[38;5;124;43m\"\u001b[39;49m\u001b[38;5;124;43mrb\u001b[39;49m\u001b[38;5;124;43m\"\u001b[39;49m\u001b[43m,\u001b[49m\u001b[43m \u001b[49m\u001b[43mstorage_options\u001b[49m\u001b[38;5;241;43m=\u001b[39;49m\u001b[43mstorage_options\u001b[49m\u001b[43m,\u001b[49m\u001b[43m \u001b[49m\u001b[43mis_text\u001b[49m\u001b[38;5;241;43m=\u001b[39;49m\u001b[38;5;28;43;01mFalse\u001b[39;49;00m\n\u001b[0;32m   1404\u001b[0m \u001b[43m\u001b[49m\u001b[43m)\u001b[49m \u001b[38;5;28;01mas\u001b[39;00m handle:\n\u001b[0;32m   1405\u001b[0m     stream \u001b[38;5;241m=\u001b[39m handle\u001b[38;5;241m.\u001b[39mhandle\n\u001b[0;32m   1406\u001b[0m     stream\u001b[38;5;241m.\u001b[39mseek(\u001b[38;5;241m0\u001b[39m)\n",
      "File \u001b[1;32mc:\\Users\\bruno\\AppData\\Local\\Programs\\Python\\Python311\\Lib\\site-packages\\pandas\\io\\common.py:728\u001b[0m, in \u001b[0;36mget_handle\u001b[1;34m(path_or_buf, mode, encoding, compression, memory_map, is_text, errors, storage_options)\u001b[0m\n\u001b[0;32m    725\u001b[0m     codecs\u001b[38;5;241m.\u001b[39mlookup_error(errors)\n\u001b[0;32m    727\u001b[0m \u001b[38;5;66;03m# open URLs\u001b[39;00m\n\u001b[1;32m--> 728\u001b[0m ioargs \u001b[38;5;241m=\u001b[39m \u001b[43m_get_filepath_or_buffer\u001b[49m\u001b[43m(\u001b[49m\n\u001b[0;32m    729\u001b[0m \u001b[43m    \u001b[49m\u001b[43mpath_or_buf\u001b[49m\u001b[43m,\u001b[49m\n\u001b[0;32m    730\u001b[0m \u001b[43m    \u001b[49m\u001b[43mencoding\u001b[49m\u001b[38;5;241;43m=\u001b[39;49m\u001b[43mencoding\u001b[49m\u001b[43m,\u001b[49m\n\u001b[0;32m    731\u001b[0m \u001b[43m    \u001b[49m\u001b[43mcompression\u001b[49m\u001b[38;5;241;43m=\u001b[39;49m\u001b[43mcompression\u001b[49m\u001b[43m,\u001b[49m\n\u001b[0;32m    732\u001b[0m \u001b[43m    \u001b[49m\u001b[43mmode\u001b[49m\u001b[38;5;241;43m=\u001b[39;49m\u001b[43mmode\u001b[49m\u001b[43m,\u001b[49m\n\u001b[0;32m    733\u001b[0m \u001b[43m    \u001b[49m\u001b[43mstorage_options\u001b[49m\u001b[38;5;241;43m=\u001b[39;49m\u001b[43mstorage_options\u001b[49m\u001b[43m,\u001b[49m\n\u001b[0;32m    734\u001b[0m \u001b[43m\u001b[49m\u001b[43m)\u001b[49m\n\u001b[0;32m    736\u001b[0m handle \u001b[38;5;241m=\u001b[39m ioargs\u001b[38;5;241m.\u001b[39mfilepath_or_buffer\n\u001b[0;32m    737\u001b[0m handles: \u001b[38;5;28mlist\u001b[39m[BaseBuffer]\n",
      "File \u001b[1;32mc:\\Users\\bruno\\AppData\\Local\\Programs\\Python\\Python311\\Lib\\site-packages\\pandas\\io\\common.py:472\u001b[0m, in \u001b[0;36m_get_filepath_or_buffer\u001b[1;34m(filepath_or_buffer, encoding, compression, mode, storage_options)\u001b[0m\n\u001b[0;32m    468\u001b[0m \u001b[38;5;28;01mif\u001b[39;00m \u001b[38;5;129;01mnot\u001b[39;00m (\n\u001b[0;32m    469\u001b[0m     \u001b[38;5;28mhasattr\u001b[39m(filepath_or_buffer, \u001b[38;5;124m\"\u001b[39m\u001b[38;5;124mread\u001b[39m\u001b[38;5;124m\"\u001b[39m) \u001b[38;5;129;01mor\u001b[39;00m \u001b[38;5;28mhasattr\u001b[39m(filepath_or_buffer, \u001b[38;5;124m\"\u001b[39m\u001b[38;5;124mwrite\u001b[39m\u001b[38;5;124m\"\u001b[39m)\n\u001b[0;32m    470\u001b[0m ):\n\u001b[0;32m    471\u001b[0m     msg \u001b[38;5;241m=\u001b[39m \u001b[38;5;124mf\u001b[39m\u001b[38;5;124m\"\u001b[39m\u001b[38;5;124mInvalid file path or buffer object type: \u001b[39m\u001b[38;5;132;01m{\u001b[39;00m\u001b[38;5;28mtype\u001b[39m(filepath_or_buffer)\u001b[38;5;132;01m}\u001b[39;00m\u001b[38;5;124m\"\u001b[39m\n\u001b[1;32m--> 472\u001b[0m     \u001b[38;5;28;01mraise\u001b[39;00m \u001b[38;5;167;01mValueError\u001b[39;00m(msg)\n\u001b[0;32m    474\u001b[0m \u001b[38;5;28;01mreturn\u001b[39;00m IOArgs(\n\u001b[0;32m    475\u001b[0m     filepath_or_buffer\u001b[38;5;241m=\u001b[39mfilepath_or_buffer,\n\u001b[0;32m    476\u001b[0m     encoding\u001b[38;5;241m=\u001b[39mencoding,\n\u001b[1;32m   (...)\u001b[0m\n\u001b[0;32m    479\u001b[0m     mode\u001b[38;5;241m=\u001b[39mmode,\n\u001b[0;32m    480\u001b[0m )\n",
      "\u001b[1;31mValueError\u001b[0m: Invalid file path or buffer object type: <class 'openpyxl.workbook.workbook.Workbook'>"
     ]
    }
   ],
   "source": [
    "df_temp = pd.read_excel(r\"C:\\Users\\bruno\\Desktop\\Projeto CBD\\Dados\\Inscritos\\Inscritos_2004_2005.xlsx\",nrows=1)\n",
    "\n",
    "for col in df_temp.columns:\n",
    "        if col in dict_colunas:\n",
    "            selected_columns[col] = dict_colunas[col]\n",
    "column_names = df.columns.tolist()\n",
    "df_selected = pd.read_excel(xls, sheet_name, usecols=selected_columns.keys())\n",
    "df_selected = df_selected.rename(columns=selected_columns)\n"
   ]
  }
 ],
 "metadata": {
  "kernelspec": {
   "display_name": "Python 3",
   "language": "python",
   "name": "python3"
  },
  "language_info": {
   "codemirror_mode": {
    "name": "ipython",
    "version": 3
   },
   "file_extension": ".py",
   "mimetype": "text/x-python",
   "name": "python",
   "nbconvert_exporter": "python",
   "pygments_lexer": "ipython3",
   "version": "3.11.8"
  }
 },
 "nbformat": 4,
 "nbformat_minor": 2
}
