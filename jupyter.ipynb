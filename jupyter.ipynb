{
 "cells": [
  {
   "cell_type": "code",
   "execution_count": 2,
   "metadata": {},
   "outputs": [],
   "source": [
    "from cassandra.cluster import Cluster"
   ]
  },
  {
   "cell_type": "code",
   "execution_count": 64,
   "metadata": {},
   "outputs": [],
   "source": [
    "cluster = Cluster(['localhost'], port=9042) # You can specify multiple contact points if needed\n",
    "session = cluster.connect() "
   ]
  },
  {
   "cell_type": "code",
   "execution_count": 19,
   "metadata": {},
   "outputs": [
    {
     "data": {
      "text/plain": [
       "<cassandra.cluster.ResultSet at 0x22a717cd7d0>"
      ]
     },
     "execution_count": 19,
     "metadata": {},
     "output_type": "execute_result"
    }
   ],
   "source": [
    "session.execute('''CREATE KEYSPACE IF NOT EXISTS cbd WITH replication \n",
    "                = {'class': 'SimpleStrategy', 'replication_factor': 1}''')\n"
   ]
  },
  {
   "cell_type": "code",
   "execution_count": 115,
   "metadata": {},
   "outputs": [
    {
     "data": {
      "text/plain": [
       "<cassandra.cluster.ResultSet at 0x1feb8db9f50>"
      ]
     },
     "execution_count": 115,
     "metadata": {},
     "output_type": "execute_result"
    }
   ],
   "source": [
    "session.execute(\"DROP TABLE IF EXISTS cbd.inscritos\")"
   ]
  },
  {
   "cell_type": "code",
   "execution_count": 116,
   "metadata": {},
   "outputs": [
    {
     "data": {
      "text/plain": [
       "<cassandra.cluster.ResultSet at 0x1febbb37510>"
      ]
     },
     "execution_count": 116,
     "metadata": {},
     "output_type": "execute_result"
    }
   ],
   "source": [
    "session.execute('''\n",
    "    CREATE TABLE cbd.inscritos (\n",
    "    natureza_do_estabelecimento VARCHAR,\n",
    "    nome_estabelecimento VARCHAR,\n",
    "    tipo_de_ensino VARCHAR,\n",
    "    nivel_de_formacao VARCHAR,\n",
    "    curso VARCHAR,\n",
    "    distrito VARCHAR,\n",
    "    sexo VARCHAR,\n",
    "    total INT,\n",
    "    grande_grupo VARCHAR,\n",
    "    pais VARCHAR,\n",
    "    ano INT,\n",
    "    PRIMARY KEY (nome_estabelecimento,nivel_de_formacao,curso,distrito,sexo,ano)\n",
    ");\n",
    "\n",
    "''')"
   ]
  },
  {
   "cell_type": "code",
   "execution_count": 78,
   "metadata": {},
   "outputs": [
    {
     "data": {
      "text/plain": [
       "<cassandra.cluster.ResultSet at 0x1feb9783f50>"
      ]
     },
     "execution_count": 78,
     "metadata": {},
     "output_type": "execute_result"
    }
   ],
   "source": [
    "session.execute('TRUNCATE cbd.inscritos')"
   ]
  },
  {
   "cell_type": "code",
   "execution_count": 117,
   "metadata": {},
   "outputs": [
    {
     "name": "stdout",
     "output_type": "stream",
     "text": [
      "Dataset: 1\n"
     ]
    },
    {
     "ename": "KeyboardInterrupt",
     "evalue": "",
     "output_type": "error",
     "traceback": [
      "\u001b[1;31m---------------------------------------------------------------------------\u001b[0m",
      "\u001b[1;31mKeyboardInterrupt\u001b[0m                         Traceback (most recent call last)",
      "Cell \u001b[1;32mIn[117], line 51\u001b[0m\n\u001b[0;32m     48\u001b[0m \u001b[38;5;66;03m# Construct the INSERT query dynamically for each row\u001b[39;00m\n\u001b[0;32m     49\u001b[0m query \u001b[38;5;241m=\u001b[39m \u001b[38;5;124mf\u001b[39m\u001b[38;5;124m'''\u001b[39m\u001b[38;5;124mINSERT INTO cbd.inscritos (\u001b[39m\u001b[38;5;132;01m{\u001b[39;00mcolumns_insert\u001b[38;5;132;01m}\u001b[39;00m\u001b[38;5;124m) VALUES (\u001b[39m\u001b[38;5;132;01m{\u001b[39;00m\u001b[38;5;124m'\u001b[39m\u001b[38;5;124m,\u001b[39m\u001b[38;5;124m'\u001b[39m\u001b[38;5;241m.\u001b[39mjoin(row_values)\u001b[38;5;132;01m}\u001b[39;00m\u001b[38;5;124m);\u001b[39m\u001b[38;5;124m'''\u001b[39m\n\u001b[1;32m---> 51\u001b[0m \u001b[43msession\u001b[49m\u001b[38;5;241;43m.\u001b[39;49m\u001b[43mexecute\u001b[49m\u001b[43m(\u001b[49m\u001b[43mquery\u001b[49m\u001b[43m)\u001b[49m\n",
      "File \u001b[1;32mc:\\Users\\bruno\\AppData\\Local\\Programs\\Python\\Python311\\Lib\\site-packages\\cassandra\\cluster.py:2677\u001b[0m, in \u001b[0;36mcassandra.cluster.Session.execute\u001b[1;34m()\u001b[0m\n",
      "File \u001b[1;32mc:\\Users\\bruno\\AppData\\Local\\Programs\\Python\\Python311\\Lib\\site-packages\\cassandra\\cluster.py:4952\u001b[0m, in \u001b[0;36mcassandra.cluster.ResponseFuture.result\u001b[1;34m()\u001b[0m\n",
      "File \u001b[1;32mc:\\Users\\bruno\\AppData\\Local\\Programs\\Python\\Python311\\Lib\\threading.py:629\u001b[0m, in \u001b[0;36mEvent.wait\u001b[1;34m(self, timeout)\u001b[0m\n\u001b[0;32m    627\u001b[0m signaled \u001b[38;5;241m=\u001b[39m \u001b[38;5;28mself\u001b[39m\u001b[38;5;241m.\u001b[39m_flag\n\u001b[0;32m    628\u001b[0m \u001b[38;5;28;01mif\u001b[39;00m \u001b[38;5;129;01mnot\u001b[39;00m signaled:\n\u001b[1;32m--> 629\u001b[0m     signaled \u001b[38;5;241m=\u001b[39m \u001b[38;5;28;43mself\u001b[39;49m\u001b[38;5;241;43m.\u001b[39;49m\u001b[43m_cond\u001b[49m\u001b[38;5;241;43m.\u001b[39;49m\u001b[43mwait\u001b[49m\u001b[43m(\u001b[49m\u001b[43mtimeout\u001b[49m\u001b[43m)\u001b[49m\n\u001b[0;32m    630\u001b[0m \u001b[38;5;28;01mreturn\u001b[39;00m signaled\n",
      "File \u001b[1;32mc:\\Users\\bruno\\AppData\\Local\\Programs\\Python\\Python311\\Lib\\threading.py:327\u001b[0m, in \u001b[0;36mCondition.wait\u001b[1;34m(self, timeout)\u001b[0m\n\u001b[0;32m    325\u001b[0m \u001b[38;5;28;01mtry\u001b[39;00m:    \u001b[38;5;66;03m# restore state no matter what (e.g., KeyboardInterrupt)\u001b[39;00m\n\u001b[0;32m    326\u001b[0m     \u001b[38;5;28;01mif\u001b[39;00m timeout \u001b[38;5;129;01mis\u001b[39;00m \u001b[38;5;28;01mNone\u001b[39;00m:\n\u001b[1;32m--> 327\u001b[0m         \u001b[43mwaiter\u001b[49m\u001b[38;5;241;43m.\u001b[39;49m\u001b[43macquire\u001b[49m\u001b[43m(\u001b[49m\u001b[43m)\u001b[49m\n\u001b[0;32m    328\u001b[0m         gotit \u001b[38;5;241m=\u001b[39m \u001b[38;5;28;01mTrue\u001b[39;00m\n\u001b[0;32m    329\u001b[0m     \u001b[38;5;28;01melse\u001b[39;00m:\n",
      "\u001b[1;31mKeyboardInterrupt\u001b[0m: "
     ]
    }
   ],
   "source": [
    "import glob\n",
    "import pandas as pd\n",
    "import os\n",
    "import re\n",
    "import uuid\n",
    "\n",
    "pd.options.mode.chained_assignment = None\n",
    "\n",
    "dict_colunas = {'Subsistema de Ensino':'natureza_do_estabelecimento',\n",
    "                'Estabelecimento':'nome_estabelecimento',\n",
    "                'Tipo de Ensino':'tipo_de_ensino',\n",
    "                'Nível de Formação':'nivel_de_formacao',\n",
    "                'Curso':'curso',\n",
    "                'Distrito':'distrito',\n",
    "                'Sexo':'sexo',\n",
    "                'Total':'total',\n",
    "                'CNAEF - Grande Grupo':'grande_grupo',\n",
    "                'País de Nacionalidade':'pais',\n",
    "                'N.º de alunos inscritos':'total',\n",
    "                'N':'total'}\n",
    "\n",
    "path = r'C:\\Users\\bruno\\Desktop\\Projeto cbd\\Inscritos'\n",
    "\n",
    "excel_files = glob.glob(path + '/*.xlsx')\n",
    "\n",
    "pattern = r'\\d+'\n",
    "\n",
    "\n",
    "for idx, file in enumerate(excel_files, 1):\n",
    "    # Create an ExcelFile object without reading the file into memory\n",
    "    print('Dataset:',idx)\n",
    "    df = pd.read_excel(file)\n",
    "    df.rename(columns=dict_colunas, inplace=True)\n",
    "    df_filtered = df[[col for col in df.columns if col in dict_colunas.values()]]\n",
    "    match = re.search(pattern, file)\n",
    "    ano = int(match.group())\n",
    "    df_filtered['ano'] = ano\n",
    "    df_filtered = df_filtered[:-2]\n",
    "    df_filtered.replace({pd.NA: None}, inplace=True)\n",
    "    columns = list(df_filtered.columns)\n",
    "    columns_insert=','.join(columns) \n",
    "    df_filtered['total'] = df_filtered['total'].astype(int)\n",
    "    for _, row in df_filtered.iterrows():\n",
    "        # Escape special characters and enclose string values in single quotes\n",
    "    \n",
    "        row_values = [f\"'{val}'\" if isinstance(val, str) else str(val) for val in row.values]\n",
    "        \n",
    "        # Construct the INSERT query dynamically for each row\n",
    "        query = f'''INSERT INTO cbd.inscritos ({columns_insert}) VALUES ({','.join(row_values)});'''\n",
    "        \n",
    "        session.execute(query)\n",
    "\n",
    "    \n",
    "    \n"
   ]
  },
  {
   "cell_type": "code",
   "execution_count": 126,
   "metadata": {},
   "outputs": [
    {
     "ename": "InvalidRequest",
     "evalue": "Error from server: code=2200 [Invalid query] message=\"Group by currently only support groups of columns following their declared order in the PRIMARY KEY\"",
     "output_type": "error",
     "traceback": [
      "\u001b[1;31m---------------------------------------------------------------------------\u001b[0m",
      "\u001b[1;31mInvalidRequest\u001b[0m                            Traceback (most recent call last)",
      "Cell \u001b[1;32mIn[126], line 2\u001b[0m\n\u001b[0;32m      1\u001b[0m \u001b[38;5;66;03m# Execute the query\u001b[39;00m\n\u001b[1;32m----> 2\u001b[0m rows \u001b[38;5;241m=\u001b[39m \u001b[43msession\u001b[49m\u001b[38;5;241;43m.\u001b[39;49m\u001b[43mexecute\u001b[49m\u001b[43m(\u001b[49m\u001b[38;5;124;43m'''\u001b[39;49m\n\u001b[0;32m      3\u001b[0m \u001b[38;5;124;43mSELECT ano, distrito, SUM(total) AS n\u001b[39;49m\n\u001b[0;32m      4\u001b[0m \u001b[38;5;124;43mFROM cbd.inscritos\u001b[39;49m\n\u001b[0;32m      5\u001b[0m \u001b[38;5;124;43mGROUP BY distrito\u001b[39;49m\n\u001b[0;32m      6\u001b[0m \u001b[38;5;124;43mORDER BY distrito;\u001b[39;49m\n\u001b[0;32m      7\u001b[0m \u001b[38;5;124;43m'''\u001b[39;49m\u001b[43m)\u001b[49m\n\u001b[0;32m      9\u001b[0m \u001b[38;5;66;03m# Convert the rows to a list and sort them based on total_enrollment\u001b[39;00m\n\u001b[0;32m     10\u001b[0m sorted_rows \u001b[38;5;241m=\u001b[39m \u001b[38;5;28msorted\u001b[39m(rows, key\u001b[38;5;241m=\u001b[39m\u001b[38;5;28;01mlambda\u001b[39;00m x: x\u001b[38;5;241m.\u001b[39mn, reverse\u001b[38;5;241m=\u001b[39m\u001b[38;5;28;01mTrue\u001b[39;00m)\n",
      "File \u001b[1;32mc:\\Users\\bruno\\AppData\\Local\\Programs\\Python\\Python311\\Lib\\site-packages\\cassandra\\cluster.py:2677\u001b[0m, in \u001b[0;36mcassandra.cluster.Session.execute\u001b[1;34m()\u001b[0m\n",
      "File \u001b[1;32mc:\\Users\\bruno\\AppData\\Local\\Programs\\Python\\Python311\\Lib\\site-packages\\cassandra\\cluster.py:4956\u001b[0m, in \u001b[0;36mcassandra.cluster.ResponseFuture.result\u001b[1;34m()\u001b[0m\n",
      "\u001b[1;31mInvalidRequest\u001b[0m: Error from server: code=2200 [Invalid query] message=\"Group by currently only support groups of columns following their declared order in the PRIMARY KEY\""
     ]
    }
   ],
   "source": [
    "# Execute the query\n",
    "rows = session.execute('''\n",
    "SELECT ano, distrito, SUM(total) AS n\n",
    "FROM cbd.inscritos\n",
    "GROUP BY distrito\n",
    "ORDER BY distrito;\n",
    "''')\n",
    "\n",
    "# Convert the rows to a list and sort them based on total_enrollment\n",
    "sorted_rows = sorted(rows, key=lambda x: x.n, reverse=True)\n",
    "\n",
    "# Print the sorted rows\n",
    "for row in sorted_rows:\n",
    "    print(row.distrito, row.n)\n"
   ]
  }
 ],
 "metadata": {
  "kernelspec": {
   "display_name": "Python 3",
   "language": "python",
   "name": "python3"
  },
  "language_info": {
   "codemirror_mode": {
    "name": "ipython",
    "version": 3
   },
   "file_extension": ".py",
   "mimetype": "text/x-python",
   "name": "python",
   "nbconvert_exporter": "python",
   "pygments_lexer": "ipython3",
   "version": "3.11.8"
  }
 },
 "nbformat": 4,
 "nbformat_minor": 2
}
