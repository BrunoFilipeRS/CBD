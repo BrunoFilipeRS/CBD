{
 "cells": [
  {
   "cell_type": "code",
   "execution_count": 93,
   "metadata": {},
   "outputs": [],
   "source": [
    "from cassandra.cluster import Cluster"
   ]
  },
  {
   "cell_type": "code",
   "execution_count": 97,
   "metadata": {},
   "outputs": [],
   "source": [
    "cluster = Cluster(['localhost'], port=9042) \n",
    "session = cluster.connect() "
   ]
  },
  {
   "cell_type": "code",
   "execution_count": 19,
   "metadata": {},
   "outputs": [
    {
     "data": {
      "text/plain": [
       "<cassandra.cluster.ResultSet at 0x22a717cd7d0>"
      ]
     },
     "execution_count": 19,
     "metadata": {},
     "output_type": "execute_result"
    }
   ],
   "source": [
    "session.execute('''CREATE KEYSPACE IF NOT EXISTS cbd WITH replication \n",
    "                = {'class': 'SimpleStrategy', 'replication_factor': 1}''')\n",
    "# criar a base de dados"
   ]
  },
  {
   "cell_type": "code",
   "execution_count": 196,
   "metadata": {},
   "outputs": [
    {
     "data": {
      "text/plain": [
       "<cassandra.cluster.ResultSet at 0x1e826423d50>"
      ]
     },
     "execution_count": 196,
     "metadata": {},
     "output_type": "execute_result"
    }
   ],
   "source": [
    "session.execute(\"DROP TABLE IF EXISTS cbd.inscritos\")"
   ]
  },
  {
   "cell_type": "code",
   "execution_count": 197,
   "metadata": {},
   "outputs": [
    {
     "data": {
      "text/plain": [
       "<cassandra.cluster.ResultSet at 0x1e82661d6d0>"
      ]
     },
     "execution_count": 197,
     "metadata": {},
     "output_type": "execute_result"
    }
   ],
   "source": [
    "session.execute('''\n",
    "    CREATE TABLE cbd.inscritos (\n",
    "    nome_estabelecimento VARCHAR,\n",
    "    distrito VARCHAR,\n",
    "    natureza_do_estabelecimento VARCHAR,\n",
    "    tipo_de_ensino VARCHAR,\n",
    "    curso VARCHAR,\n",
    "    sexo VARCHAR,\n",
    "    total INT,\n",
    "    grande_grupo VARCHAR,\n",
    "    pais VARCHAR,\n",
    "    ano INT,\n",
    "    PRIMARY KEY (ano,nome_estabelecimento,curso,natureza_do_estabelecimento,sexo));\n",
    "''')"
   ]
  },
  {
   "cell_type": "code",
   "execution_count": 9,
   "metadata": {},
   "outputs": [
    {
     "data": {
      "text/plain": [
       "<cassandra.cluster.ResultSet at 0x1e87eeec350>"
      ]
     },
     "execution_count": 9,
     "metadata": {},
     "output_type": "execute_result"
    }
   ],
   "source": [
    "session.execute('''\n",
    "    CREATE TABLE cbd.diplomados (\n",
    "    natureza_do_estabelecimento VARCHAR,\n",
    "    nome_estabelecimento VARCHAR,\n",
    "    tipo_de_ensino VARCHAR,\n",
    "    nivel_de_formacao VARCHAR,\n",
    "    curso VARCHAR,\n",
    "    distrito VARCHAR,\n",
    "    sexo VARCHAR,\n",
    "    total INT,\n",
    "    grande_grupo VARCHAR,\n",
    "    pais VARCHAR,\n",
    "    ano INT,\n",
    "    PRIMARY KEY (, nome_estabelecimento));\n",
    "''')"
   ]
  },
  {
   "cell_type": "code",
   "execution_count": 176,
   "metadata": {},
   "outputs": [
    {
     "data": {
      "text/plain": [
       "<cassandra.cluster.ResultSet at 0x1e82a5cbd90>"
      ]
     },
     "execution_count": 176,
     "metadata": {},
     "output_type": "execute_result"
    }
   ],
   "source": [
    "session.execute('TRUNCATE cbd.inscritos')"
   ]
  },
  {
   "cell_type": "code",
   "execution_count": 52,
   "metadata": {},
   "outputs": [
    {
     "name": "stdout",
     "output_type": "stream",
     "text": [
      "Dataset: 1\n",
      "Dataset: 2\n"
     ]
    },
    {
     "ename": "KeyboardInterrupt",
     "evalue": "",
     "output_type": "error",
     "traceback": [
      "\u001b[1;31m---------------------------------------------------------------------------\u001b[0m",
      "\u001b[1;31mKeyboardInterrupt\u001b[0m                         Traceback (most recent call last)",
      "Cell \u001b[1;32mIn[52], line 57\u001b[0m\n\u001b[0;32m     53\u001b[0m row_values \u001b[38;5;241m=\u001b[39m [\u001b[38;5;124mf\u001b[39m\u001b[38;5;124m\"\u001b[39m\u001b[38;5;124m'\u001b[39m\u001b[38;5;132;01m{\u001b[39;00mval\u001b[38;5;132;01m}\u001b[39;00m\u001b[38;5;124m'\u001b[39m\u001b[38;5;124m\"\u001b[39m \u001b[38;5;28;01mif\u001b[39;00m \u001b[38;5;28misinstance\u001b[39m(val, \u001b[38;5;28mstr\u001b[39m) \u001b[38;5;28;01melse\u001b[39;00m \u001b[38;5;28mstr\u001b[39m(val) \u001b[38;5;28;01mfor\u001b[39;00m val \u001b[38;5;129;01min\u001b[39;00m row\u001b[38;5;241m.\u001b[39mvalues]\n\u001b[0;32m     55\u001b[0m query \u001b[38;5;241m=\u001b[39m \u001b[38;5;124mf\u001b[39m\u001b[38;5;124m'''\u001b[39m\u001b[38;5;124mINSERT INTO cbd.inscritos (\u001b[39m\u001b[38;5;132;01m{\u001b[39;00mcolumns_insert\u001b[38;5;132;01m}\u001b[39;00m\u001b[38;5;124m) VALUES (\u001b[39m\u001b[38;5;132;01m{\u001b[39;00m\u001b[38;5;124m'\u001b[39m\u001b[38;5;124m,\u001b[39m\u001b[38;5;124m'\u001b[39m\u001b[38;5;241m.\u001b[39mjoin(row_values)\u001b[38;5;132;01m}\u001b[39;00m\u001b[38;5;124m);\u001b[39m\u001b[38;5;124m'''\u001b[39m\n\u001b[1;32m---> 57\u001b[0m \u001b[43msession\u001b[49m\u001b[38;5;241;43m.\u001b[39;49m\u001b[43mexecute\u001b[49m\u001b[43m(\u001b[49m\u001b[43mquery\u001b[49m\u001b[43m)\u001b[49m\n",
      "File \u001b[1;32mc:\\Users\\bruno\\AppData\\Local\\Programs\\Python\\Python311\\Lib\\site-packages\\cassandra\\cluster.py:2677\u001b[0m, in \u001b[0;36mcassandra.cluster.Session.execute\u001b[1;34m()\u001b[0m\n",
      "File \u001b[1;32mc:\\Users\\bruno\\AppData\\Local\\Programs\\Python\\Python311\\Lib\\site-packages\\cassandra\\cluster.py:4952\u001b[0m, in \u001b[0;36mcassandra.cluster.ResponseFuture.result\u001b[1;34m()\u001b[0m\n",
      "File \u001b[1;32mc:\\Users\\bruno\\AppData\\Local\\Programs\\Python\\Python311\\Lib\\threading.py:629\u001b[0m, in \u001b[0;36mEvent.wait\u001b[1;34m(self, timeout)\u001b[0m\n\u001b[0;32m    627\u001b[0m signaled \u001b[38;5;241m=\u001b[39m \u001b[38;5;28mself\u001b[39m\u001b[38;5;241m.\u001b[39m_flag\n\u001b[0;32m    628\u001b[0m \u001b[38;5;28;01mif\u001b[39;00m \u001b[38;5;129;01mnot\u001b[39;00m signaled:\n\u001b[1;32m--> 629\u001b[0m     signaled \u001b[38;5;241m=\u001b[39m \u001b[38;5;28;43mself\u001b[39;49m\u001b[38;5;241;43m.\u001b[39;49m\u001b[43m_cond\u001b[49m\u001b[38;5;241;43m.\u001b[39;49m\u001b[43mwait\u001b[49m\u001b[43m(\u001b[49m\u001b[43mtimeout\u001b[49m\u001b[43m)\u001b[49m\n\u001b[0;32m    630\u001b[0m \u001b[38;5;28;01mreturn\u001b[39;00m signaled\n",
      "File \u001b[1;32mc:\\Users\\bruno\\AppData\\Local\\Programs\\Python\\Python311\\Lib\\threading.py:327\u001b[0m, in \u001b[0;36mCondition.wait\u001b[1;34m(self, timeout)\u001b[0m\n\u001b[0;32m    325\u001b[0m \u001b[38;5;28;01mtry\u001b[39;00m:    \u001b[38;5;66;03m# restore state no matter what (e.g., KeyboardInterrupt)\u001b[39;00m\n\u001b[0;32m    326\u001b[0m     \u001b[38;5;28;01mif\u001b[39;00m timeout \u001b[38;5;129;01mis\u001b[39;00m \u001b[38;5;28;01mNone\u001b[39;00m:\n\u001b[1;32m--> 327\u001b[0m         \u001b[43mwaiter\u001b[49m\u001b[38;5;241;43m.\u001b[39;49m\u001b[43macquire\u001b[49m\u001b[43m(\u001b[49m\u001b[43m)\u001b[49m\n\u001b[0;32m    328\u001b[0m         gotit \u001b[38;5;241m=\u001b[39m \u001b[38;5;28;01mTrue\u001b[39;00m\n\u001b[0;32m    329\u001b[0m     \u001b[38;5;28;01melse\u001b[39;00m:\n",
      "\u001b[1;31mKeyboardInterrupt\u001b[0m: "
     ]
    }
   ],
   "source": [
    "import glob\n",
    "import pandas as pd\n",
    "import os\n",
    "import re\n",
    "import uuid\n",
    "\n",
    "pd.options.mode.chained_assignment = None\n",
    "\n",
    "# para mudar as colunas de nome\n",
    "dict_colunas = {'Subsistema de Ensino':'natureza_do_estabelecimento',\n",
    "                'Estabelecimento':'nome_estabelecimento',\n",
    "                'Tipo de Ensino':'tipo_de_ensino',\n",
    "                'Nível de Formação':'nivel_de_formacao',\n",
    "                'Curso':'curso',\n",
    "                'Distrito':'distrito',\n",
    "                'Sexo':'sexo',\n",
    "                'Total':'total',\n",
    "                'CNAEF - Grande Grupo':'grande_grupo',\n",
    "                'País de Nacionalidade':'pais',\n",
    "                'N.º de alunos inscritos':'total',\n",
    "                'N':'total'}\n",
    "\n",
    "# path onde estao os ficheiros excel\n",
    "path = r'C:\\Users\\bruno\\Desktop\\Projeto CBD\\Dados\\Inscritos'\n",
    "\n",
    "excel_files = glob.glob(path + '/*.xlsx')\n",
    "\n",
    "pattern = r'\\d+'\n",
    "\n",
    "\n",
    "for idx, file in enumerate(excel_files, 1):\n",
    "    # Create an ExcelFile object without reading the file into memory\n",
    "    print('Dataset:',idx)\n",
    "    df = pd.read_excel(file)\n",
    "    df.rename(columns=dict_colunas, inplace=True)\n",
    "    # ficar so com as colunas que o df tem no dicionario\n",
    "    df_filtered = df[[col for col in df.columns if col in dict_colunas.values()]]\n",
    "    # tirar o ano do ficheiro\n",
    "    match = re.search(pattern, file)\n",
    "    ano = int(match.group())\n",
    "    df_filtered['ano'] = ano\n",
    "    # as ultimas 2 linhas, 1 delas é vazia e a outra tem o total de tudo\n",
    "    df_filtered = df_filtered[:-2]\n",
    "    # para conseguir colocar NaNs no cassandra\n",
    "    df_filtered.replace({pd.NA: None}, inplace=True)\n",
    "    # colunas para o insert\n",
    "    columns = list(df_filtered.columns)\n",
    "    columns_insert=','.join(columns) \n",
    "    # total para int\n",
    "    df_filtered['total'] = df_filtered['total'].astype(int)\n",
    "    for _, row in df_filtered.iterrows():\n",
    "        # colocar '' nas strings\n",
    "        row_values = [f\"'{val}'\" if isinstance(val, str) else str(val) for val in row.values]\n",
    "    \n",
    "        query = f'''INSERT INTO cbd.inscritos ({columns_insert}) VALUES ({','.join(row_values)});'''\n",
    "        \n",
    "        session.execute(query)\n",
    "\n",
    "    \n",
    "    \n"
   ]
  },
  {
   "cell_type": "code",
   "execution_count": 76,
   "metadata": {},
   "outputs": [
    {
     "name": "stdout",
     "output_type": "stream",
     "text": [
      "Dataset: 1\n",
      "6446 6444\n",
      "Dataset: 2\n",
      "6101 6099\n",
      "Dataset: 3\n",
      "8066 8064\n"
     ]
    },
    {
     "ename": "KeyboardInterrupt",
     "evalue": "",
     "output_type": "error",
     "traceback": [
      "\u001b[1;31m---------------------------------------------------------------------------\u001b[0m",
      "\u001b[1;31mKeyboardInterrupt\u001b[0m                         Traceback (most recent call last)",
      "Cell \u001b[1;32mIn[76], line 58\u001b[0m\n\u001b[0;32m     54\u001b[0m row_values \u001b[38;5;241m=\u001b[39m [\u001b[38;5;124mf\u001b[39m\u001b[38;5;124m\"\u001b[39m\u001b[38;5;124m'\u001b[39m\u001b[38;5;132;01m{\u001b[39;00mval\u001b[38;5;132;01m}\u001b[39;00m\u001b[38;5;124m'\u001b[39m\u001b[38;5;124m\"\u001b[39m \u001b[38;5;28;01mif\u001b[39;00m \u001b[38;5;28misinstance\u001b[39m(val, \u001b[38;5;28mstr\u001b[39m) \u001b[38;5;28;01melse\u001b[39;00m \u001b[38;5;28mstr\u001b[39m(val) \u001b[38;5;28;01mfor\u001b[39;00m val \u001b[38;5;129;01min\u001b[39;00m row\u001b[38;5;241m.\u001b[39mvalues]\n\u001b[0;32m     56\u001b[0m query \u001b[38;5;241m=\u001b[39m \u001b[38;5;124mf\u001b[39m\u001b[38;5;124m'''\u001b[39m\u001b[38;5;124mINSERT INTO cbd.diplomados (\u001b[39m\u001b[38;5;132;01m{\u001b[39;00mcolumns_insert\u001b[38;5;132;01m}\u001b[39;00m\u001b[38;5;124m) VALUES (\u001b[39m\u001b[38;5;132;01m{\u001b[39;00m\u001b[38;5;124m'\u001b[39m\u001b[38;5;124m,\u001b[39m\u001b[38;5;124m'\u001b[39m\u001b[38;5;241m.\u001b[39mjoin(row_values)\u001b[38;5;132;01m}\u001b[39;00m\u001b[38;5;124m);\u001b[39m\u001b[38;5;124m'''\u001b[39m\n\u001b[1;32m---> 58\u001b[0m \u001b[43msession\u001b[49m\u001b[38;5;241;43m.\u001b[39;49m\u001b[43mexecute\u001b[49m\u001b[43m(\u001b[49m\u001b[43mquery\u001b[49m\u001b[43m)\u001b[49m\n",
      "File \u001b[1;32mc:\\Users\\bruno\\AppData\\Local\\Programs\\Python\\Python311\\Lib\\site-packages\\cassandra\\cluster.py:2677\u001b[0m, in \u001b[0;36mcassandra.cluster.Session.execute\u001b[1;34m()\u001b[0m\n",
      "File \u001b[1;32mc:\\Users\\bruno\\AppData\\Local\\Programs\\Python\\Python311\\Lib\\site-packages\\cassandra\\cluster.py:4952\u001b[0m, in \u001b[0;36mcassandra.cluster.ResponseFuture.result\u001b[1;34m()\u001b[0m\n",
      "File \u001b[1;32mc:\\Users\\bruno\\AppData\\Local\\Programs\\Python\\Python311\\Lib\\threading.py:629\u001b[0m, in \u001b[0;36mEvent.wait\u001b[1;34m(self, timeout)\u001b[0m\n\u001b[0;32m    627\u001b[0m signaled \u001b[38;5;241m=\u001b[39m \u001b[38;5;28mself\u001b[39m\u001b[38;5;241m.\u001b[39m_flag\n\u001b[0;32m    628\u001b[0m \u001b[38;5;28;01mif\u001b[39;00m \u001b[38;5;129;01mnot\u001b[39;00m signaled:\n\u001b[1;32m--> 629\u001b[0m     signaled \u001b[38;5;241m=\u001b[39m \u001b[38;5;28;43mself\u001b[39;49m\u001b[38;5;241;43m.\u001b[39;49m\u001b[43m_cond\u001b[49m\u001b[38;5;241;43m.\u001b[39;49m\u001b[43mwait\u001b[49m\u001b[43m(\u001b[49m\u001b[43mtimeout\u001b[49m\u001b[43m)\u001b[49m\n\u001b[0;32m    630\u001b[0m \u001b[38;5;28;01mreturn\u001b[39;00m signaled\n",
      "File \u001b[1;32mc:\\Users\\bruno\\AppData\\Local\\Programs\\Python\\Python311\\Lib\\threading.py:327\u001b[0m, in \u001b[0;36mCondition.wait\u001b[1;34m(self, timeout)\u001b[0m\n\u001b[0;32m    325\u001b[0m \u001b[38;5;28;01mtry\u001b[39;00m:    \u001b[38;5;66;03m# restore state no matter what (e.g., KeyboardInterrupt)\u001b[39;00m\n\u001b[0;32m    326\u001b[0m     \u001b[38;5;28;01mif\u001b[39;00m timeout \u001b[38;5;129;01mis\u001b[39;00m \u001b[38;5;28;01mNone\u001b[39;00m:\n\u001b[1;32m--> 327\u001b[0m         \u001b[43mwaiter\u001b[49m\u001b[38;5;241;43m.\u001b[39;49m\u001b[43macquire\u001b[49m\u001b[43m(\u001b[49m\u001b[43m)\u001b[49m\n\u001b[0;32m    328\u001b[0m         gotit \u001b[38;5;241m=\u001b[39m \u001b[38;5;28;01mTrue\u001b[39;00m\n\u001b[0;32m    329\u001b[0m     \u001b[38;5;28;01melse\u001b[39;00m:\n",
      "\u001b[1;31mKeyboardInterrupt\u001b[0m: "
     ]
    }
   ],
   "source": [
    "import glob\n",
    "import pandas as pd\n",
    "import os\n",
    "import re\n",
    "import uuid\n",
    "\n",
    "pd.options.mode.chained_assignment = None\n",
    "\n",
    "# para mudar as colunas de nome\n",
    "dict_colunas = {'Subsistema de Ensino':'natureza_do_estabelecimento',\n",
    "                'Estabelecimento':'nome_estabelecimento',\n",
    "                'Tipo de Ensino':'tipo_de_ensino',\n",
    "                'Nível de Formação':'nivel_de_formacao',\n",
    "                'Curso':'curso',\n",
    "                'Distrito':'distrito',\n",
    "                'Sexo':'sexo',\n",
    "                'Total':'total',\n",
    "                'CNAEF - Grande Grupo':'grande_grupo',\n",
    "                'País de Nacionalidade':'pais',\n",
    "                'N.º de alunos inscritos':'total',\n",
    "                'N':'total'}\n",
    "\n",
    "# path onde estao os ficheiros excel\n",
    "path = r'C:\\Users\\bruno\\Desktop\\Projeto CBD\\Dados\\Diplomados'\n",
    "\n",
    "excel_files = glob.glob(path + '/*.xlsx')\n",
    "\n",
    "pattern = r'\\d+'\n",
    "\n",
    "\n",
    "for idx, file in enumerate(excel_files, 1):\n",
    "    # Create an ExcelFile object without reading the file into memory\n",
    "    print('Dataset:',idx)\n",
    "    df = pd.read_excel(file)\n",
    "    df.rename(columns=dict_colunas, inplace=True)\n",
    "    # ficar so com as colunas que o df tem no dicionario\n",
    "    df_filtered = df[[col for col in df.columns if col in dict_colunas.values()]]\n",
    "    # tirar o ano do ficheiro\n",
    "    match = re.search(pattern, file)\n",
    "    ano = int(match.group())\n",
    "    df_filtered['ano'] = ano\n",
    "    # as ultimas 2 linhas, 1 delas é vazia e a outra tem o total de tudo\n",
    "    df_filtered = df_filtered[:-2]\n",
    "    # para conseguir colocar NaNs no cassandra\n",
    "    df_filtered.replace({pd.NA: None}, inplace=True)\n",
    "    # colunas para o insert\n",
    "    columns = list(df_filtered.columns)\n",
    "    columns_insert=','.join(columns) \n",
    "    # total para int\n",
    "    df_filtered['total'] = df_filtered['total'].astype(int)\n",
    "    print(len(df),len(df_filtered))\n",
    "    for _, row in df_filtered.iterrows():\n",
    "        # colocar '' nas strings\n",
    "        row_values = [f\"'{val}'\" if isinstance(val, str) else str(val) for val in row.values]\n",
    "    \n",
    "        query = f'''INSERT INTO cbd.diplomados ({columns_insert}) VALUES ({','.join(row_values)});'''\n",
    "        \n",
    "        session.execute(query)\n",
    "\n",
    "    \n",
    "    \n"
   ]
  },
  {
   "cell_type": "code",
   "execution_count": 58,
   "metadata": {},
   "outputs": [
    {
     "data": {
      "text/plain": [
       "<cassandra.cluster.ResultSet at 0x1e8197f2790>"
      ]
     },
     "execution_count": 58,
     "metadata": {},
     "output_type": "execute_result"
    }
   ],
   "source": [
    "session.execute('CREATE INDEX ON cbd.inscritos (distrito);')"
   ]
  },
  {
   "cell_type": "code",
   "execution_count": 71,
   "metadata": {},
   "outputs": [
    {
     "name": "stdout",
     "output_type": "stream",
     "text": [
      "Coimbra 140\n",
      "Beja 56\n",
      "Porto 54\n",
      "Ilha de São Miguel 46\n",
      "Vila Real 43\n",
      "Ilha Terceira 43\n",
      "Bragança 31\n",
      "Portalegre 27\n",
      "Braga 25\n",
      "Évora 25\n",
      "Viseu 20\n",
      "Santarém 11\n",
      "Guarda 9\n",
      "Setúbal 7\n",
      "Ilha da Madeira 6\n",
      "Aveiro 4\n",
      "Faro 3\n",
      "Castelo Branco 2\n",
      "Viana do Castelo 1\n",
      "Lisboa 0\n",
      "Leiria 0\n"
     ]
    }
   ],
   "source": [
    "# Execute the query\n",
    "rows = session.execute('''\n",
    "    SELECT distrito, SUM(total) AS n\n",
    "    FROM cbd.inscritos\n",
    "    WHERE ano = 2004 \n",
    "    GROUP BY distrito\n",
    "    ALLOW FILTERING;\n",
    "''')\n",
    "rows2 = session.execute('''\n",
    "    SELECT distrito, SUM(total) AS n\n",
    "    FROM cbd.diplomados\n",
    "    WHERE ano = 2004 \n",
    "    GROUP BY distrito\n",
    "    ALLOW FILTERING;\n",
    "''')\n",
    "# Convert the rows to a list and sort them based on total_enrollment\n",
    "sorted_rows = sorted(rows, key=lambda x: x.n, reverse=True)\n",
    "sorted_rows2 = sorted(rows2, key=lambda x: x.n, reverse=True)\n",
    "# Print the sorted rows\n",
    "for row in sorted_rows2:\n",
    "    print(row.distrito, row.n)\n"
   ]
  },
  {
   "cell_type": "code",
   "execution_count": 78,
   "metadata": {},
   "outputs": [
    {
     "data": {
      "text/plain": [
       "CompletedProcess(args='cqlsh -e \"COPY cbd.diplomados FROM \\'C:\\\\Users\\\\bruno\\\\Desktop\\\\Projeto CBD\\\\Projeto CBD git\\\\teste.csv\\' WITH DELIMITER=\\',\\' AND HEADER=TRUE AND COLUMN_MAPPING = {Subsistema de Ensino:natureza_do_estabelecimento,Estabelecimento:nome_estabelecimento,Tipo de Ensino:tipo_de_ensino,Nível de Formação:nivel_de_formacao,Curso:curso,Distrito:distrito,Sexo:sexo,Total:total,CNAEF - Grande Grupo:grande_grupo};\"', returncode=1)"
      ]
     },
     "execution_count": 78,
     "metadata": {},
     "output_type": "execute_result"
    }
   ],
   "source": [
    "import subprocess\n",
    "\n",
    "file_path = r\"C:\\Users\\bruno\\Desktop\\Projeto CBD\\Projeto CBD git\\teste.csv\"\n",
    "dict_colunas = {'Subsistema de Ensino':'natureza_do_estabelecimento',\n",
    "                'Estabelecimento':'nome_estabelecimento',\n",
    "                'Tipo de Ensino':'tipo_de_ensino',\n",
    "                'Nível de Formação':'nivel_de_formacao',\n",
    "                'Curso':'curso',\n",
    "                'Distrito':'distrito',\n",
    "                'Sexo':'sexo',\n",
    "                'Total':'total',\n",
    "                'CNAEF - Grande Grupo':'grande_grupo'}\n",
    "#session.execute(f\"COPY keyspace.diplomados (distrito, nome_estabelecimento, tipo_de_ensino, natureza_do_estabelecimento,nivel_de_formacao,curso,sexo,grande_grupo,pais,total) FROM {file_path} WITH DELIMITER=',' AND HEADER=TRUE AND COLUMN_MAPPING ={dict_colunas};\")\n",
    "file_path = r\"C:\\Users\\bruno\\Desktop\\Projeto CBD\\Projeto CBD git\\teste.csv\"\n",
    "keyspace_name = \"cbd\"\n",
    "table_name = \"diplomados\"\n",
    "\n",
    "column_mapping_string = ','.join([f\"{csv_col}:{table_col}\" for csv_col, table_col in dict_colunas.items()])\n",
    "\n",
    "# Construct the cqlsh command to execute\n",
    "command = f\"cqlsh -e \\\"COPY {keyspace_name}.{table_name} FROM '{file_path}' WITH DELIMITER=',' AND HEADER=TRUE AND COLUMN_MAPPING = {{{column_mapping_string}}};\\\"\"\n",
    "\n",
    "# Execute the cqlsh command\n",
    "subprocess.run(command, shell=True)"
   ]
  },
  {
   "cell_type": "code",
   "execution_count": 36,
   "metadata": {},
   "outputs": [
    {
     "name": "stdout",
     "output_type": "stream",
     "text": [
      "Error: 'cqlsh' is not recognized as an internal or external command,\n",
      "operable program or batch file.\n",
      "\n"
     ]
    }
   ],
   "source": [
    "import subprocess\n",
    "\n",
    "# Define the command as a string\n",
    "command = 'cqlsh -e \"COPY cbd.diplomados FROM \\'C:\\\\Users\\\\bruno\\\\Desktop\\\\Projeto CBD\\\\Projeto CBD git\\\\teste.csv\\' WITH DELIMITER=\\';\\' AND HEADER=TRUE AND COLUMN_MAPPING = {Subsistema de Ensino:natureza_do_estabelecimento,Estabelecimento:nome_estabelecimento,Tipo de Ensino:tipo_de_ensino,Nível de Formação:nivel_de_formacao,Curso:curso,Distrito:distrito,Sexo:sexo,Total:total,CNAEF - Grande Grupo:grande_grupo};\"'\n",
    "\n",
    "# Run the command and capture the error output\n",
    "process = subprocess.Popen(command, shell=True, stderr=subprocess.PIPE)\n",
    "out, err = process.communicate()\n",
    "\n",
    "# Check if there was an error\n",
    "if err:\n",
    "    # Print the error output\n",
    "    print(\"Error:\", err.decode('utf-8'))\n",
    "else:\n",
    "    print(\"Command executed successfully\")\n"
   ]
  },
  {
   "cell_type": "code",
   "execution_count": 39,
   "metadata": {},
   "outputs": [
    {
     "name": "stdout",
     "output_type": "stream",
     "text": [
      "Data import failed.\n"
     ]
    }
   ],
   "source": [
    "import docker\n",
    "\n",
    "# Connect to the Docker daemon\n",
    "client = docker.from_env()\n",
    "\n",
    "# Find the Cassandra container\n",
    "cassandra_container = client.containers.get('cassandra')\n",
    "\n",
    "# Execute a command inside the Cassandra container\n",
    "command = 'select * from cbd.isncritos'\n",
    "exec_result = cassandra_container.exec_run(command, tty=True)\n",
    "\n",
    "# Check the result\n",
    "if exec_result.exit_code == 0:\n",
    "    print(\"Data import successful!\")\n",
    "else:\n",
    "    print(\"Data import failed.\")\n"
   ]
  },
  {
   "cell_type": "code",
   "execution_count": 79,
   "metadata": {},
   "outputs": [],
   "source": [
    "import pandas as pd\n",
    "\n",
    "# Load the Excel file into a DataFrame\n",
    "file = r\"C:\\Users\\bruno\\Desktop\\Projeto CBD\\Dados\\Diplomados\\Diplomados_2004_2005.xlsx\"\n",
    "f = pd.read_excel(file)\n",
    "df.rename(columns=dict_colunas, inplace=True)\n",
    "# ficar so com as colunas que o df tem no dicionario\n",
    "df_filtered = df[[col for col in df.columns if col in dict_colunas.values()]]\n",
    "# tirar o ano do ficheiro\n",
    "match = re.search(pattern, file)\n",
    "ano = int(match.group())\n",
    "df_filtered['ano'] = ano\n",
    "# as ultimas 2 linhas, 1 delas é vazia e a outra tem o total de tudo\n",
    "df_filtered = df_filtered[:-2]\n",
    "# para conseguir colocar NaNs no cassandra\n",
    "df_filtered.replace({pd.NA: None}, inplace=True)\n",
    "# colunas para o insert\n",
    "columns = list(df_filtered.columns)\n",
    "columns_insert=','.join(columns) \n",
    "# total para int\n",
    "df_filtered['total'] = df_filtered['total'].astype(int)\n",
    "# Write the DataFrame to a CSV file\n",
    "csv_file = \"teste.csv\"\n",
    "df_filtered.to_csv(csv_file, index=False,encoding='utf-8')\n"
   ]
  },
  {
   "cell_type": "code",
   "execution_count": 91,
   "metadata": {},
   "outputs": [
    {
     "name": "stdout",
     "output_type": "stream",
     "text": [
      "Data import failed.\n"
     ]
    }
   ],
   "source": [
    "import docker\n",
    "\n",
    "# Conecte-se ao daemon do Docker\n",
    "client = docker.from_env()\n",
    "\n",
    "# Encontre o contêiner do Cassandra\n",
    "cassandra_container = client.containers.get('cassandra')\n",
    "\n",
    "# Copie o arquivo CSV para dentro do contêiner\n",
    "csv_file_path = r'C:\\Users\\bruno\\Desktop\\Projeto CBD\\Projeto CBD git\\teste.csv'\n",
    "container_csv_path = '/teste.csv'\n",
    "\n",
    "# Execute o comando COPY dentro do contêiner\n",
    "command = f\"copy cbd.inscritos (nome_estabelecimento,distrito,natureza_do_estabelecimento,tipo_de_ensino,curso,sexo,total,ano) from 'teste.csv' with header = true;\"\n",
    "exec_result = cassandra_container.exec_run(command, tty=True)\n",
    "\n",
    "# Verifique o resultado\n",
    "if exec_result.exit_code == 0:\n",
    "    print(\"Data import successful!\")\n",
    "else:\n",
    "    print(\"Data import failed.\")\n"
   ]
  },
  {
   "cell_type": "code",
   "execution_count": 83,
   "metadata": {},
   "outputs": [
    {
     "name": "stdout",
     "output_type": "stream",
     "text": [
      "total 68\n",
      "lrwxrwxrwx   1 root root    7 Feb 27 15:59 bin -> usr/bin\n",
      "drwxr-xr-x   2 root root 4096 Apr 18  2022 boot\n",
      "-rwxrwxr-x   1 root root 1182 Mar 28 01:55 __cacert_entrypoint.sh\n",
      "drwxr-xr-x   5 root root  340 Apr 14 16:57 dev\n",
      "drwxr-xr-x   1 root root 4096 Apr  8 20:19 etc\n",
      "drwxr-xr-x   2 root root 4096 Apr 18  2022 home\n",
      "-rw-r--r--   1 root root    0 Apr 14 20:42 import_cbd_inscritos.err\n",
      "-rw-r--r--   1 root root    0 Apr 14 20:40 import_cbd_inscritos.err.20240414_204255\n",
      "lrwxrwxrwx   1 root root    7 Feb 27 15:59 lib -> usr/lib\n",
      "lrwxrwxrwx   1 root root    9 Feb 27 15:59 lib32 -> usr/lib32\n",
      "lrwxrwxrwx   1 root root    9 Feb 27 15:59 lib64 -> usr/lib64\n",
      "lrwxrwxrwx   1 root root   10 Feb 27 15:59 libx32 -> usr/libx32\n",
      "drwxr-xr-x   2 root root 4096 Feb 27 15:59 media\n",
      "drwxr-xr-x   2 root root 4096 Feb 27 15:59 mnt\n",
      "drwxr-xr-x   1 root root 4096 Mar 28 02:49 opt\n",
      "dr-xr-xr-x 269 root root    0 Apr 14 16:57 proc\n",
      "drwx------   1 root root 4096 Apr 12 00:16 root\n",
      "drwxr-xr-x   5 root root 4096 Feb 27 16:03 run\n",
      "lrwxrwxrwx   1 root root    8 Feb 27 15:59 sbin -> usr/sbin\n",
      "drwxr-xr-x   2 root root 4096 Feb 27 15:59 srv\n",
      "dr-xr-xr-x  11 root root    0 Apr 14 16:57 sys\n",
      "drwxrwxrwt   1 root root 4096 Apr 14 16:58 tmp\n",
      "drwxr-xr-x   1 root root 4096 Feb 27 15:59 usr\n",
      "drwxr-xr-x   1 root root 4096 Feb 27 16:02 var\n",
      "\n"
     ]
    }
   ],
   "source": [
    "import docker\n",
    "\n",
    "# Conecte-se ao daemon do Docker\n",
    "client = docker.from_env()\n",
    "\n",
    "# Encontre o contêiner do Cassandra\n",
    "cassandra_container = client.containers.get('cassandra')\n",
    "\n",
    "# Execute um comando dentro do contêiner para listar o diretório atual\n",
    "exec_result = cassandra_container.exec_run(['ls', '-l', '/'])\n",
    "\n",
    "# Imprima o resultado\n",
    "print(exec_result.output.decode('utf-8'))"
   ]
  },
  {
   "cell_type": "code",
   "execution_count": 125,
   "metadata": {},
   "outputs": [
    {
     "data": {
      "text/plain": [
       "CompletedProcess(args='docker cp \"C:\\\\Users\\\\bruno\\\\Desktop\\\\Projeto CBD\\\\Projeto CBD git\\\\modified_teste.csv\" cassandra:/', returncode=0)"
      ]
     },
     "execution_count": 125,
     "metadata": {},
     "output_type": "execute_result"
    }
   ],
   "source": [
    "import subprocess\n",
    "\n",
    "\n",
    "# Define the command to execute\n",
    "command = r'docker cp \"C:\\Users\\bruno\\Desktop\\Projeto CBD\\Projeto CBD git\\modified_teste.csv\" cassandra:/'\n",
    "\n",
    "# Execute the command in a Bash terminal\n",
    "subprocess.run(command, shell=True)"
   ]
  },
  {
   "cell_type": "code",
   "execution_count": 101,
   "metadata": {},
   "outputs": [],
   "source": [
    "dict_colunas = {'Subsistema de Ensino':'natureza_do_estabelecimento',\n",
    "                'Estabelecimento':'nome_estabelecimento',\n",
    "                'Tipo de Ensino':'tipo_de_ensino',\n",
    "                'Nível de Formação':'nivel_de_formacao',\n",
    "                'Curso':'curso',\n",
    "                'Distrito':'distrito',\n",
    "                'Sexo':'sexo',\n",
    "                'Total':'total',\n",
    "                'CNAEF - Grande Grupo':'grande_grupo',\n",
    "                'País de Nacionalidade':'pais',\n",
    "                'N.º de alunos inscritos':'total',\n",
    "                'N':'total'}"
   ]
  },
  {
   "cell_type": "code",
   "execution_count": 123,
   "metadata": {},
   "outputs": [],
   "source": [
    "import pandas as pd\n",
    "\n",
    "# Read the CSV file into a DataFrame\n",
    "df = pd.read_csv('teste.csv')\n",
    "\n",
    "missing_columns = ['nivel_de_formacao', 'grande_grupo', 'pais']\n",
    "\n",
    "# Change data type of specified columns to string\n",
    "df[missing_columns] = ''\n",
    "# Reorder columns to match the table schema\n",
    "df = df[['ano','distrito','nome_estabelecimento','curso','grande_grupo','natureza_do_estabelecimento','nivel_de_formacao','pais','sexo','tipo_de_ensino','total']]\n",
    "\n",
    "# Save the modified DataFrame back to a CSV file\n",
    "df.to_csv('modified_teste.csv', index=False)\n",
    "\n"
   ]
  },
  {
   "cell_type": "code",
   "execution_count": 104,
   "metadata": {},
   "outputs": [
    {
     "name": "stdout",
     "output_type": "stream",
     "text": [
      "nome_estabelecimento            object\n",
      "distrito                        object\n",
      "natureza_do_estabelecimento     object\n",
      "tipo_de_ensino                  object\n",
      "curso                           object\n",
      "sexo                            object\n",
      "total                            int64\n",
      "ano                              int64\n",
      "nivel_de_formacao              float64\n",
      "grande_grupo                   float64\n",
      "pais                           float64\n",
      "dtype: object\n"
     ]
    }
   ],
   "source": [
    "df = pd.read_csv('modified_teste.csv')\n",
    "column_types = df.dtypes\n",
    "print(column_types)"
   ]
  },
  {
   "cell_type": "code",
   "execution_count": null,
   "metadata": {},
   "outputs": [],
   "source": [
    "import pandas as pd\n",
    "\n",
    "# Create a DataFrame with a column containing None values\n",
    "\n",
    "\n",
    "# Check the data types of the columns before changing\n",
    "print(\"Before changing:\")\n",
    "print(df.dtypes)\n",
    "\n",
    "# Change the data type of the column to integer\n",
    "df['col1'] = df['col1'].astype('int')\n",
    "\n",
    "# Check the data types of the columns after changing\n",
    "print(\"\\nAfter changing:\")\n",
    "print(df.dtypes)\n"
   ]
  },
  {
   "cell_type": "code",
   "execution_count": 181,
   "metadata": {},
   "outputs": [
    {
     "name": "stdout",
     "output_type": "stream",
     "text": [
      "Dataset: 1\n",
      "Dataset: 2\n",
      "Dataset: 3\n",
      "Dataset: 4\n",
      "Dataset: 5\n",
      "Dataset: 6\n",
      "Dataset: 7\n",
      "Dataset: 8\n",
      "Dataset: 9\n",
      "Dataset: 10\n",
      "Dataset: 11\n",
      "Dataset: 12\n",
      "Dataset: 13\n",
      "Dataset: 14\n",
      "Dataset: 15\n",
      "Dataset: 16\n",
      "Dataset: 17\n",
      "Dataset: 18\n"
     ]
    }
   ],
   "source": [
    "import glob\n",
    "import pandas as pd\n",
    "import re\n",
    "import subprocess\n",
    "\n",
    "pd.options.mode.chained_assignment = None\n",
    "\n",
    "# Dictionary for column renaming\n",
    "dict_colunas = {\n",
    "    'Subsistema de Ensino': 'natureza_do_estabelecimento',\n",
    "    'Estabelecimento': 'nome_estabelecimento',\n",
    "    'Tipo de Ensino': 'tipo_de_ensino',\n",
    "    'Curso': 'curso',\n",
    "    'Distrito': 'distrito',\n",
    "    'Sexo': 'sexo',\n",
    "    'Total': 'total',\n",
    "    'CNAEF - Grande Grupo': 'grande_grupo',\n",
    "    'País de Nacionalidade': 'pais',\n",
    "    'N.º de alunos inscritos': 'total',\n",
    "    'N': 'total',\n",
    "    'CNAEF - Grande grupo' : 'grande_grupo',\n",
    "    'Área de Educação e Formação - Área Específica':'grande_grupo',\n",
    "    'Natureza do Estabelecimento de Ensino':'natureza_do_estabelecimento'\n",
    "\n",
    "}\n",
    "\n",
    "# Path to the directory containing Excel files\n",
    "path = r'C:\\Users\\bruno\\Desktop\\Projeto CBD\\Dados\\Inscritos'\n",
    "\n",
    "excel_files = glob.glob(path + '/*.xlsx')\n",
    "\n",
    "pattern = r'\\d+'\n",
    "\n",
    "combined_df = pd.DataFrame(columns=['ano', 'distrito', 'nome_estabelecimento', 'curso', 'grande_grupo', 'natureza_do_estabelecimento',\n",
    "                                    'pais', 'sexo', 'tipo_de_ensino', 'total'])\n",
    "\n",
    "for idx, file in enumerate(excel_files, 1):\n",
    "    print('Dataset:', idx)\n",
    "    # Read Excel file\n",
    "    df = pd.read_excel(file)\n",
    "    \n",
    "    # Rename columns\n",
    "    df.rename(columns=dict_colunas, inplace=True)\n",
    "    \n",
    "    # Check and add missing columns\n",
    "    for col in dict_colunas.values():\n",
    "        if col not in df.columns:\n",
    "            df[col] = ''\n",
    "    \n",
    "    # Extract year from filename\n",
    "    match = re.search(pattern, file)\n",
    "    ano = int(match.group())\n",
    "    \n",
    "    # Replace NaNs with None\n",
    "    df.replace({pd.NA: None}, inplace=True)\n",
    "    column_to_check = 'nome_estabelecimento'\n",
    "    # Remove rows where the specified column has an empty value\n",
    "    df = df[df[column_to_check].notna()]\n",
    "\n",
    "    # Convert 'total' column to integer\n",
    "    df['total'] = df['total'].astype(int)\n",
    "    \n",
    "    # Add 'ano' column\n",
    "    df['ano'] = ano\n",
    "    \n",
    "    # Select specific columns\n",
    "    df = df[['ano', 'distrito', 'nome_estabelecimento', 'curso', 'grande_grupo', 'natureza_do_estabelecimento',\n",
    "             'pais', 'sexo', 'tipo_de_ensino', 'total']]\n",
    "    \n",
    "    # Save to CSV\n",
    "    combined_df = pd.concat([combined_df, df], ignore_index=True)\n",
    "\n",
    "combined_df.to_csv('CR7.csv', index=False,encoding='utf-8')\n",
    "\n",
    "\n"
   ]
  },
  {
   "cell_type": "code",
   "execution_count": null,
   "metadata": {},
   "outputs": [],
   "source": [
    "command = r'docker cp \"C:\\Users\\bruno\\Desktop\\Projeto CBD\\Projeto CBD git\\CR7.csv\" cassandra:/'\n",
    "\n",
    "# Execute the command in a Bash terminal\n",
    "subprocess.run(command, shell=True)"
   ]
  },
  {
   "cell_type": "code",
   "execution_count": 198,
   "metadata": {},
   "outputs": [
    {
     "data": {
      "text/plain": [
       "CompletedProcess(args=['docker', 'exec', '-i', 'cassandra', 'cqlsh', '-e', \"COPY cbd.inscritos  (ano,distrito,nome_estabelecimento,curso,grande_grupo,natureza_do_estabelecimento,pais,sexo,tipo_de_ensino,total)   FROM 'CR7.csv'   WITH HEADER = true;\"], returncode=0)"
      ]
     },
     "execution_count": 198,
     "metadata": {},
     "output_type": "execute_result"
    }
   ],
   "source": [
    "command = r\"COPY cbd.inscritos  (ano,distrito,nome_estabelecimento,curso,grande_grupo,natureza_do_estabelecimento,pais,sexo,tipo_de_ensino,total)   FROM 'CR7.csv'   WITH HEADER = true;\"\n",
    "\n",
    "subprocess.run(['docker', 'exec', '-i', 'cassandra', 'cqlsh', '-e', command], check=True)"
   ]
  },
  {
   "cell_type": "code",
   "execution_count": 175,
   "metadata": {},
   "outputs": [
    {
     "data": {
      "text/plain": [
       "CompletedProcess(args=\"COPY cbd.inscritos \\n(ano,distrito,nome_estabelecimento,curso,grande_grupo,natureza_do_estabelecimento,nivel_de_formacao,pais,sexo,tipo_de_ensino,total)  \\nFROM 'CR7.csv'  \\nWITH HEADER = true;\", returncode=1)"
      ]
     },
     "execution_count": 175,
     "metadata": {},
     "output_type": "execute_result"
    }
   ],
   "source": [
    "command = r'''COPY cbd.inscritos \n",
    "(ano,distrito,nome_estabelecimento,curso,grande_grupo,natureza_do_estabelecimento,nivel_de_formacao,pais,sexo,tipo_de_ensino,total)  \n",
    "FROM 'CR7.csv'  \n",
    "WITH HEADER = true;'''\n",
    "\n",
    "subprocess.run(command, shell=True)"
   ]
  },
  {
   "cell_type": "code",
   "execution_count": null,
   "metadata": {},
   "outputs": [],
   "source": [
    "ano int,\n",
    "    distrito text,\n",
    "    nome_estabelecimento text,\n",
    "    curso text,\n",
    "    grande_grupo text,\n",
    "    natureza_do_estabelecimento text,\n",
    "    nivel_de_formacao text,\n",
    "    pais text,\n",
    "    sexo text,\n",
    "    tipo_de_ensino text,\n",
    "    total int,"
   ]
  },
  {
   "cell_type": "code",
   "execution_count": 151,
   "metadata": {},
   "outputs": [],
   "source": [
    "import pandas as pd\n",
    "\n",
    "# Provide the full path to the Excel file\n",
    "file_path = r\"C:\\Users\\bruno\\Desktop\\Projeto CBD\\Dados\\Inscritos\\Inscritos_2012_2013.xlsx\"\n",
    "\n",
    "# Read the Excel file into a DataFrame\n",
    "df = pd.read_excel(file_path)\n",
    "\n",
    "# Save the DataFrame as a CSV file\n",
    "df.to_csv('t.csv', index=False)\n"
   ]
  }
 ],
 "metadata": {
  "kernelspec": {
   "display_name": "Python 3",
   "language": "python",
   "name": "python3"
  },
  "language_info": {
   "codemirror_mode": {
    "name": "ipython",
    "version": 3
   },
   "file_extension": ".py",
   "mimetype": "text/x-python",
   "name": "python",
   "nbconvert_exporter": "python",
   "pygments_lexer": "ipython3",
   "version": "3.11.8"
  }
 },
 "nbformat": 4,
 "nbformat_minor": 2
}
